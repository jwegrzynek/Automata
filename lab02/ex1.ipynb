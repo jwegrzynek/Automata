{
 "cells": [
  {
   "cell_type": "markdown",
   "metadata": {},
   "source": [
    "# JAZDA"
   ]
  },
  {
   "cell_type": "code",
   "execution_count": 11,
   "metadata": {},
   "outputs": [],
   "source": [
    "def bin_from_int(x):\n",
    "    return [int(bit) for bit in format(x, f'08b')]\n",
    "\n",
    "def int_from_bin(bits_list):\n",
    "    return int(''.join(str(bit) for bit in bits_list), 2)\n",
    "\n",
    "def get_neighborhoods(lst):\n",
    "    neighborhood = []\n",
    "    n = len(lst)\n",
    "    neighborhood = [[lst[(i-1) % n], lst[i], lst[(i+1) % n]] for i in range(n)]\n",
    "    return neighborhood"
   ]
  },
  {
   "cell_type": "code",
   "execution_count": 9,
   "metadata": {},
   "outputs": [
    {
     "data": {
      "text/plain": [
       "[[1, 1, 1],\n",
       " [1, 1, 0],\n",
       " [1, 0, 1],\n",
       " [1, 0, 0],\n",
       " [0, 1, 1],\n",
       " [0, 1, 0],\n",
       " [0, 0, 1],\n",
       " [0, 0, 0]]"
      ]
     },
     "execution_count": 9,
     "metadata": {},
     "output_type": "execute_result"
    }
   ],
   "source": [
    "from itertools import product\n",
    "\n",
    "l = [7, 6, 5, 4, 3, 2, 1, 0]\n",
    "\n",
    "tripple_bits = [list(tup) for tup in list(product([1, 0], repeat=3))]\n",
    "tripple_bits"
   ]
  },
  {
   "cell_type": "code",
   "execution_count": 8,
   "metadata": {},
   "outputs": [
    {
     "data": {
      "text/plain": [
       "[0, 0, 0, 1, 1, 1, 1, 0]"
      ]
     },
     "execution_count": 8,
     "metadata": {},
     "output_type": "execute_result"
    }
   ],
   "source": [
    "bin_from_int(30)"
   ]
  },
  {
   "cell_type": "code",
   "execution_count": 12,
   "metadata": {},
   "outputs": [
    {
     "name": "stdout",
     "output_type": "stream",
     "text": [
      "[[1, 0, 0], [0, 0, 0], [0, 0, 1], [0, 1, 1], [1, 1, 0], [1, 0, 1], [0, 1, 0]]\n"
     ]
    }
   ],
   "source": [
    "initial_config = [0, 0, 0, 1, 1, 0, 1]\n"
   ]
  },
  {
   "cell_type": "code",
   "execution_count": 14,
   "metadata": {},
   "outputs": [
    {
     "data": {
      "text/plain": [
       "[0, 0, 0, 1, 1, 1, 0]"
      ]
     },
     "execution_count": 14,
     "metadata": {},
     "output_type": "execute_result"
    }
   ],
   "source": [
    "def eca_step(rule_number, configuration):\n",
    "    tripple_bits = [list(tup) for tup in list(product([1, 0], repeat=3))]\n",
    "    rule = bin_from_int(rule_number)\n",
    "    neighborhoods = get_neighborhoods(configuration)\n",
    "    next_configuration = [rule[tripple_bits.index(neighborhood)] for neighborhood in neighborhoods]\n",
    "\n",
    "    return next_configuration\n",
    "\n",
    "initial_config = [0, 0, 0, 0, 1, 0, 0]\n",
    "eca_step(30, initial_config)\n"
   ]
  },
  {
   "cell_type": "code",
   "execution_count": 17,
   "metadata": {},
   "outputs": [
    {
     "data": {
      "text/plain": [
       "[[0, 0, 0, 1, 1, 1, 0], [0, 0, 1, 1, 0, 0, 1], [1, 1, 1, 0, 1, 1, 1]]"
      ]
     },
     "execution_count": 17,
     "metadata": {},
     "output_type": "execute_result"
    }
   ],
   "source": [
    "def eca_steps(rule_number, configuration, steps):\n",
    "    result = [eca_step(rule_number, configuration)]\n",
    "\n",
    "    for _ in range(steps - 1):\n",
    "        result.append(eca_step(rule_number, result[-1]))\n",
    "\n",
    "    return result\n",
    "\n",
    "initial_config = [0, 0, 0, 0, 1, 0, 0]\n",
    "eca_steps(30, initial_config, 3)"
   ]
  },
  {
   "cell_type": "code",
   "execution_count": null,
   "metadata": {},
   "outputs": [],
   "source": []
  },
  {
   "cell_type": "code",
   "execution_count": 20,
   "metadata": {},
   "outputs": [
    {
     "ename": "ModuleNotFoundError",
     "evalue": "No module named 'matplotlib'",
     "output_type": "error",
     "traceback": [
      "\u001b[1;31m---------------------------------------------------------------------------\u001b[0m",
      "\u001b[1;31mModuleNotFoundError\u001b[0m                       Traceback (most recent call last)",
      "\u001b[1;32mc:\\Users\\jwegrzynek\\Automata\\lab02\\ex1.ipynb Cell 8\u001b[0m line \u001b[0;36m1\n\u001b[1;32m----> <a href='vscode-notebook-cell:/c%3A/Users/jwegrzynek/Automata/lab02/ex1.ipynb#X11sZmlsZQ%3D%3D?line=0'>1</a>\u001b[0m \u001b[39mimport\u001b[39;00m \u001b[39mmatplotlib\u001b[39;00m\u001b[39m.\u001b[39;00m\u001b[39mpyplot\u001b[39;00m \u001b[39mas\u001b[39;00m \u001b[39mplt\u001b[39;00m\n\u001b[0;32m      <a href='vscode-notebook-cell:/c%3A/Users/jwegrzynek/Automata/lab02/ex1.ipynb#X11sZmlsZQ%3D%3D?line=2'>3</a>\u001b[0m \u001b[39mdef\u001b[39;00m \u001b[39meca_visualize\u001b[39m(rule_number, configuration, steps):\n\u001b[0;32m      <a href='vscode-notebook-cell:/c%3A/Users/jwegrzynek/Automata/lab02/ex1.ipynb#X11sZmlsZQ%3D%3D?line=3'>4</a>\u001b[0m     plt\u001b[39m.\u001b[39mimshow(eca_steps(rule_number, configuration, steps))\n",
      "\u001b[1;31mModuleNotFoundError\u001b[0m: No module named 'matplotlib'"
     ]
    }
   ],
   "source": [
    "import matplotlib.pyplot as plt\n",
    "\n",
    "def eca_visualize(rule_number, configuration, steps):\n",
    "    plt.imshow(eca_steps(rule_number, configuration, steps))\n",
    "\n",
    "initial_config = [0, 0, 0, 0, 1, 0, 0]\n",
    "eca_visualize(30, initial_config, 3)\n"
   ]
  }
 ],
 "metadata": {
  "kernelspec": {
   "display_name": "venv",
   "language": "python",
   "name": "python3"
  },
  "language_info": {
   "codemirror_mode": {
    "name": "ipython",
    "version": 3
   },
   "file_extension": ".py",
   "mimetype": "text/x-python",
   "name": "python",
   "nbconvert_exporter": "python",
   "pygments_lexer": "ipython3",
   "version": "3.11.5"
  },
  "orig_nbformat": 4
 },
 "nbformat": 4,
 "nbformat_minor": 2
}
