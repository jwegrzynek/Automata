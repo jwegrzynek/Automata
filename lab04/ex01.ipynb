{
 "cells": [
  {
   "cell_type": "code",
   "execution_count": 5,
   "outputs": [],
   "source": [
    "import numpy as np\n",
    "from src.eca import ECA\n",
    "from itertools import product"
   ],
   "metadata": {
    "collapsed": false,
    "ExecuteTime": {
     "end_time": "2024-03-19T21:22:29.183660900Z",
     "start_time": "2024-03-19T21:22:28.886741200Z"
    }
   },
   "id": "46bef5be4a7e8b5d"
  },
  {
   "cell_type": "markdown",
   "source": [
    "# Zadanie 7"
   ],
   "metadata": {
    "collapsed": false
   },
   "id": "4fcace79613bdb31"
  },
  {
   "cell_type": "code",
   "execution_count": 6,
   "outputs": [],
   "source": [
    "configs = list(product([0, 1], repeat=15))"
   ],
   "metadata": {
    "collapsed": false,
    "ExecuteTime": {
     "end_time": "2024-03-19T21:22:31.006433700Z",
     "start_time": "2024-03-19T21:22:30.990754Z"
    }
   },
   "id": "ec1b295ae15e2c7a"
  },
  {
   "cell_type": "code",
   "execution_count": 7,
   "outputs": [],
   "source": [
    "def check_dcp(history, config_len):\n",
    "\n",
    "    density = sum(history[0]) / config_len\n",
    "\n",
    "    last_state_is_zeros = history[-1] == [0] * config_len\n",
    "    last_state_is_ones = history[-1] == [1] * config_len\n",
    "    \n",
    "    if last_state_is_zeros:\n",
    "        return density < 0.5\n",
    "    elif last_state_is_ones:\n",
    "        return density > 0.5\n",
    "\n",
    "    return False\n"
   ],
   "metadata": {
    "collapsed": false,
    "ExecuteTime": {
     "end_time": "2024-03-19T21:22:32.772043200Z",
     "start_time": "2024-03-19T21:22:32.740752Z"
    }
   },
   "id": "bf8d82f21649933"
  },
  {
   "cell_type": "code",
   "execution_count": 8,
   "outputs": [],
   "source": [
    "automata = [ECA.init_config(config) for config in configs]"
   ],
   "metadata": {
    "collapsed": false,
    "ExecuteTime": {
     "end_time": "2024-03-19T21:22:33.870702500Z",
     "start_time": "2024-03-19T21:22:33.685229600Z"
    }
   },
   "id": "1a80e3e82a2edb0b"
  },
  {
   "cell_type": "code",
   "execution_count": null,
   "outputs": [],
   "source": [
    "results = []\n",
    "\n",
    "for rule in range(256):\n",
    "    result = []\n",
    "    for automaton in automata:\n",
    "        automaton.evolve(rule, 30)\n",
    "        result.append(check_dcp(automaton.history, 15))\n",
    "    results.append(sum(result))"
   ],
   "metadata": {
    "collapsed": false
   },
   "id": "4c62f826b9e46ba1"
  },
  {
   "cell_type": "code",
   "execution_count": 19,
   "outputs": [],
   "source": [
    "no_configs = len(configs)\n",
    "final_result = [(rule, round(100*count/no_configs, 6)) for rule, count in enumerate(results)]\n",
    "sorted_result = sorted(final_result, key=lambda x: x[1], reverse=True)"
   ],
   "metadata": {
    "collapsed": false,
    "ExecuteTime": {
     "end_time": "2024-03-19T22:16:28.911876Z",
     "start_time": "2024-03-19T22:16:28.884261800Z"
    }
   },
   "id": "4566e50c59e7514c"
  },
  {
   "cell_type": "code",
   "execution_count": 20,
   "outputs": [
    {
     "data": {
      "text/plain": "[(128, 50.003052),\n (136, 50.003052),\n (160, 50.003052),\n (168, 50.003052),\n (192, 50.003052),\n (224, 50.003052),\n (234, 50.003052),\n (238, 50.003052),\n (248, 50.003052),\n (250, 50.003052),\n (252, 50.003052),\n (254, 50.003052),\n (0, 50.0),\n (8, 50.0),\n (32, 50.0),\n (40, 50.0),\n (64, 50.0),\n (96, 50.0),\n (235, 50.0),\n (239, 50.0),\n (249, 50.0),\n (251, 50.0),\n (253, 50.0),\n (255, 50.0),\n (122, 49.679565),\n (161, 49.679565),\n (146, 49.591064),\n (182, 49.591064),\n (126, 49.511719),\n (129, 49.511719),\n (18, 49.221802),\n (183, 49.221802),\n (22, 38.28125),\n (151, 38.28125),\n (104, 29.019165),\n (233, 29.019165),\n (1, 25.741577),\n (127, 25.741577),\n (7, 18.228149),\n (21, 18.228149),\n (31, 18.228149),\n (87, 18.228149),\n (36, 17.7948),\n (219, 17.7948),\n (72, 17.071533),\n (237, 17.071533),\n (23, 8.325195),\n (232, 8.325195),\n (164, 7.254028),\n (218, 7.254028),\n (19, 5.105591),\n (55, 5.105591),\n (3, 4.165649),\n (5, 4.165649),\n (17, 4.165649),\n (63, 4.165649),\n (95, 4.165649),\n (119, 4.165649),\n (200, 4.165649),\n (236, 4.165649),\n (4, 3.497314),\n (223, 3.497314),\n (33, 3.271484),\n (123, 3.271484),\n (54, 2.575684),\n (147, 2.575684),\n (132, 1.165771),\n (222, 1.165771),\n (37, 0.692749),\n (91, 0.692749),\n (62, 0.210571),\n (118, 0.210571),\n (131, 0.210571),\n (145, 0.210571),\n (9, 0.112915),\n (65, 0.112915),\n (111, 0.112915),\n (125, 0.112915),\n (94, 0.057983),\n (110, 0.057983),\n (124, 0.057983),\n (133, 0.057983),\n (137, 0.057983),\n (193, 0.057983),\n (134, 0.015259),\n (148, 0.015259),\n (158, 0.015259),\n (214, 0.015259),\n (6, 0.012207),\n (20, 0.012207),\n (30, 0.012207),\n (86, 0.012207),\n (135, 0.012207),\n (149, 0.012207),\n (159, 0.012207),\n (215, 0.012207),\n (11, 0.006104),\n (13, 0.006104),\n (15, 0.006104),\n (25, 0.006104),\n (27, 0.006104),\n (29, 0.006104),\n (35, 0.006104),\n (39, 0.006104),\n (41, 0.006104),\n (43, 0.006104),\n (45, 0.006104),\n (47, 0.006104),\n (49, 0.006104),\n (51, 0.006104),\n (53, 0.006104),\n (57, 0.006104),\n (59, 0.006104),\n (61, 0.006104),\n (67, 0.006104),\n (69, 0.006104),\n (71, 0.006104),\n (73, 0.006104),\n (75, 0.006104),\n (77, 0.006104),\n (79, 0.006104),\n (81, 0.006104),\n (83, 0.006104),\n (85, 0.006104),\n (89, 0.006104),\n (93, 0.006104),\n (97, 0.006104),\n (99, 0.006104),\n (101, 0.006104),\n (103, 0.006104),\n (105, 0.006104),\n (107, 0.006104),\n (109, 0.006104),\n (113, 0.006104),\n (115, 0.006104),\n (117, 0.006104),\n (121, 0.006104),\n (130, 0.006104),\n (138, 0.006104),\n (140, 0.006104),\n (142, 0.006104),\n (144, 0.006104),\n (150, 0.006104),\n (152, 0.006104),\n (154, 0.006104),\n (156, 0.006104),\n (162, 0.006104),\n (166, 0.006104),\n (170, 0.006104),\n (172, 0.006104),\n (174, 0.006104),\n (176, 0.006104),\n (178, 0.006104),\n (180, 0.006104),\n (184, 0.006104),\n (186, 0.006104),\n (188, 0.006104),\n (190, 0.006104),\n (194, 0.006104),\n (196, 0.006104),\n (198, 0.006104),\n (202, 0.006104),\n (204, 0.006104),\n (206, 0.006104),\n (208, 0.006104),\n (210, 0.006104),\n (212, 0.006104),\n (216, 0.006104),\n (220, 0.006104),\n (226, 0.006104),\n (228, 0.006104),\n (230, 0.006104),\n (240, 0.006104),\n (242, 0.006104),\n (244, 0.006104),\n (246, 0.006104),\n (2, 0.003052),\n (10, 0.003052),\n (12, 0.003052),\n (14, 0.003052),\n (16, 0.003052),\n (24, 0.003052),\n (26, 0.003052),\n (28, 0.003052),\n (34, 0.003052),\n (38, 0.003052),\n (42, 0.003052),\n (44, 0.003052),\n (46, 0.003052),\n (48, 0.003052),\n (50, 0.003052),\n (52, 0.003052),\n (56, 0.003052),\n (58, 0.003052),\n (60, 0.003052),\n (66, 0.003052),\n (68, 0.003052),\n (70, 0.003052),\n (74, 0.003052),\n (76, 0.003052),\n (78, 0.003052),\n (80, 0.003052),\n (82, 0.003052),\n (84, 0.003052),\n (88, 0.003052),\n (90, 0.003052),\n (92, 0.003052),\n (98, 0.003052),\n (100, 0.003052),\n (102, 0.003052),\n (106, 0.003052),\n (108, 0.003052),\n (112, 0.003052),\n (114, 0.003052),\n (116, 0.003052),\n (120, 0.003052),\n (139, 0.003052),\n (141, 0.003052),\n (143, 0.003052),\n (153, 0.003052),\n (155, 0.003052),\n (157, 0.003052),\n (163, 0.003052),\n (165, 0.003052),\n (167, 0.003052),\n (169, 0.003052),\n (171, 0.003052),\n (173, 0.003052),\n (175, 0.003052),\n (177, 0.003052),\n (179, 0.003052),\n (181, 0.003052),\n (185, 0.003052),\n (187, 0.003052),\n (189, 0.003052),\n (191, 0.003052),\n (195, 0.003052),\n (197, 0.003052),\n (199, 0.003052),\n (201, 0.003052),\n (203, 0.003052),\n (205, 0.003052),\n (207, 0.003052),\n (209, 0.003052),\n (211, 0.003052),\n (213, 0.003052),\n (217, 0.003052),\n (221, 0.003052),\n (225, 0.003052),\n (227, 0.003052),\n (229, 0.003052),\n (231, 0.003052),\n (241, 0.003052),\n (243, 0.003052),\n (245, 0.003052),\n (247, 0.003052)]"
     },
     "execution_count": 20,
     "metadata": {},
     "output_type": "execute_result"
    }
   ],
   "source": [
    "sorted_result"
   ],
   "metadata": {
    "collapsed": false,
    "ExecuteTime": {
     "end_time": "2024-03-19T22:16:29.503286Z",
     "start_time": "2024-03-19T22:16:29.458533600Z"
    }
   },
   "id": "5d1e0d24ed5dd8e"
  },
  {
   "cell_type": "markdown",
   "source": [
    "# Zadanie 8"
   ],
   "metadata": {
    "collapsed": false
   },
   "id": "e46df6b9e8f4fc52"
  },
  {
   "cell_type": "code",
   "execution_count": 34,
   "outputs": [
    {
     "name": "stdout",
     "output_type": "stream",
     "text": [
      "Works: 1000 / 1000\n"
     ]
    }
   ],
   "source": [
    "count = 0\n",
    "config_length = 121\n",
    "\n",
    "for i in range(1000):    \n",
    "    \n",
    "    automaton_1 = ECA.init_random(config_length)\n",
    "    automaton_1.evolve(184, config_length)\n",
    "    \n",
    "    init_config = automaton_1.history[-1]\n",
    "    \n",
    "    automaton_2 = ECA.init_config(init_config)\n",
    "    automaton_2.evolve(232, config_length)\n",
    "    \n",
    "    if check_dcp(automaton_1.history + automaton_2.history, config_length):\n",
    "        count += 1\n",
    "        \n",
    "print(\"Works:\", count, \"/ 1000\")\n",
    "    \n",
    "    \n"
   ],
   "metadata": {
    "collapsed": false,
    "ExecuteTime": {
     "end_time": "2024-03-19T22:56:27.855978Z",
     "start_time": "2024-03-19T22:56:13.494691700Z"
    }
   },
   "id": "4a66e84ae13362b0"
  },
  {
   "cell_type": "code",
   "execution_count": null,
   "outputs": [],
   "source": [],
   "metadata": {
    "collapsed": false
   },
   "id": "c83eccc46b54a2ba"
  }
 ],
 "metadata": {
  "kernelspec": {
   "display_name": "Python 3",
   "language": "python",
   "name": "python3"
  },
  "language_info": {
   "codemirror_mode": {
    "name": "ipython",
    "version": 2
   },
   "file_extension": ".py",
   "mimetype": "text/x-python",
   "name": "python",
   "nbconvert_exporter": "python",
   "pygments_lexer": "ipython2",
   "version": "2.7.6"
  }
 },
 "nbformat": 4,
 "nbformat_minor": 5
}
