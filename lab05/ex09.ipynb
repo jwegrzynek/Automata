{
 "cells": [
  {
   "cell_type": "markdown",
   "source": [
    "# Zadanie 9"
   ],
   "metadata": {
    "collapsed": false
   },
   "id": "34ecc89d94e4f0d"
  },
  {
   "cell_type": "code",
   "execution_count": 79,
   "outputs": [],
   "source": [
    "import numpy as np\n",
    "from math import ceil"
   ],
   "metadata": {
    "collapsed": false,
    "ExecuteTime": {
     "end_time": "2024-04-08T21:41:01.271017600Z",
     "start_time": "2024-04-08T21:41:01.239327800Z"
    }
   },
   "id": "312d4a6d79347b10"
  },
  {
   "cell_type": "code",
   "execution_count": 71,
   "outputs": [],
   "source": [
    "def majority(neighbours):\n",
    "    return int(sum(neighbours) > 1)\n",
    "\n",
    "\n",
    "def GKL(initial_config, j, k, steps):\n",
    "    diagram = [initial_config]\n",
    "    n = len(initial_config)\n",
    "    padded_config = np.pad(initial_config, (k, k), 'wrap')\n",
    "\n",
    "    for _ in range(steps):\n",
    "        neighbourhoods = []\n",
    "        for idx in range(k, n + k):\n",
    "            if padded_config[idx] == 0:\n",
    "                neighbourhoods.append([padded_config[idx], padded_config[idx - j], padded_config[idx - k]])\n",
    "            else:\n",
    "                neighbourhoods.append([padded_config[idx], padded_config[idx + j], padded_config[idx + k]])\n",
    "\n",
    "        result = [majority(neighbourhood) for neighbourhood in neighbourhoods]\n",
    "        diagram.append(result)\n",
    "        padded_config = np.pad(result, (k, k), 'wrap')\n",
    "\n",
    "    return diagram\n",
    "\n",
    "\n",
    "def DCP(diagram):\n",
    "    initial_density = np.mean(diagram[0])  # Calculate initial density\n",
    "    final_density = np.mean(diagram[-1])  # Calculate final density\n",
    "\n",
    "    if initial_density < 0.5:\n",
    "        return final_density == 0\n",
    "    return final_density == 1\n"
   ],
   "metadata": {
    "collapsed": false,
    "ExecuteTime": {
     "end_time": "2024-04-08T21:31:03.650234900Z",
     "start_time": "2024-04-08T21:31:03.634614100Z"
    }
   },
   "id": "955a794d4fa53ec"
  },
  {
   "cell_type": "code",
   "execution_count": 77,
   "outputs": [],
   "source": [
    "def convert_configuration(configuration: bytes, N: int):\n",
    "    binary_str = ''.join(f'{byte:08b}' for byte in configuration)\n",
    "    return np.array([int(bit) for bit in binary_str[:N]])\n",
    "\n",
    "\n",
    "def configuration_reader(file_name: str, N: int, negate: bool):\n",
    "    bytes_per_configuration = ceil(N / 8)\n",
    "    configurations = []\n",
    "\n",
    "    with open(file_name, 'rb') as file:\n",
    "        while True:\n",
    "            bytes_read = file.read(bytes_per_configuration)\n",
    "            if not bytes_read:\n",
    "                break\n",
    "\n",
    "            cfg = convert_configuration(bytes_read, N)\n",
    "            configurations.append(cfg)\n",
    "\n",
    "            if negate:\n",
    "                configurations.append(1 - cfg)\n",
    "\n",
    "    return np.stack(configurations)"
   ],
   "metadata": {
    "collapsed": false,
    "ExecuteTime": {
     "end_time": "2024-04-08T21:40:51.831386900Z",
     "start_time": "2024-04-08T21:40:51.799755100Z"
    }
   },
   "id": "8d35336099fb94d1"
  },
  {
   "cell_type": "code",
   "execution_count": 73,
   "outputs": [
    {
     "data": {
      "text/plain": "[[0, 1, 1, 0, 0, 1, 0, 0],\n [0, 1, 1, 0, 0, 0, 0, 0],\n [0, 1, 0, 0, 0, 0, 0, 0],\n [0, 0, 0, 0, 0, 0, 0, 0]]"
     },
     "execution_count": 73,
     "metadata": {},
     "output_type": "execute_result"
    }
   ],
   "source": [
    "GKL([0, 1, 1, 0, 0, 1, 0, 0], 1, 3, 3)"
   ],
   "metadata": {
    "collapsed": false,
    "ExecuteTime": {
     "end_time": "2024-04-08T21:31:05.334774600Z",
     "start_time": "2024-04-08T21:31:05.319150600Z"
    }
   },
   "id": "a394df6df94dcef6"
  },
  {
   "cell_type": "code",
   "execution_count": 75,
   "outputs": [
    {
     "data": {
      "text/plain": "False"
     },
     "execution_count": 75,
     "metadata": {},
     "output_type": "execute_result"
    }
   ],
   "source": [
    "DCP(GKL([0, 1, 1, 0, 0, 1, 0, 0], 1, 3, 2))"
   ],
   "metadata": {
    "collapsed": false,
    "ExecuteTime": {
     "end_time": "2024-04-08T21:31:42.296106700Z",
     "start_time": "2024-04-08T21:31:42.264833300Z"
    }
   },
   "id": "76a97d20145f3b0e"
  },
  {
   "cell_type": "code",
   "execution_count": 80,
   "outputs": [],
   "source": [
    "configurations = configuration_reader(\"ALL_N21.bin\", 21, True)"
   ],
   "metadata": {
    "collapsed": false,
    "ExecuteTime": {
     "end_time": "2024-04-08T21:41:06.415331400Z",
     "start_time": "2024-04-08T21:41:05.510163600Z"
    }
   },
   "id": "d01b76911c958fd3"
  },
  {
   "cell_type": "code",
   "execution_count": 92,
   "outputs": [
    {
     "name": "stdout",
     "output_type": "stream",
     "text": [
      "225.28679394721985\n"
     ]
    }
   ],
   "source": [
    "results = []\n",
    "\n",
    "for config in configurations:\n",
    "    results.append(DCP(GKL(config, 1, 3, 42)))"
   ],
   "metadata": {
    "collapsed": false,
    "ExecuteTime": {
     "end_time": "2024-04-08T22:00:56.202488500Z",
     "start_time": "2024-04-08T21:57:10.884456200Z"
    }
   },
   "id": "f889a3c241824b0a"
  },
  {
   "cell_type": "code",
   "execution_count": 93,
   "outputs": [
    {
     "data": {
      "text/plain": "0.90778934721666"
     },
     "execution_count": 93,
     "metadata": {},
     "output_type": "execute_result"
    }
   ],
   "source": [
    "sum(results) / len(results)"
   ],
   "metadata": {
    "collapsed": false,
    "ExecuteTime": {
     "end_time": "2024-04-08T22:01:32.848619500Z",
     "start_time": "2024-04-08T22:01:32.832989800Z"
    }
   },
   "id": "c774378a60c8de3f"
  },
  {
   "cell_type": "code",
   "execution_count": null,
   "outputs": [],
   "source": [],
   "metadata": {
    "collapsed": false
   },
   "id": "e9cccbb66929b04f"
  }
 ],
 "metadata": {
  "kernelspec": {
   "display_name": "Python 3",
   "language": "python",
   "name": "python3"
  },
  "language_info": {
   "codemirror_mode": {
    "name": "ipython",
    "version": 2
   },
   "file_extension": ".py",
   "mimetype": "text/x-python",
   "name": "python",
   "nbconvert_exporter": "python",
   "pygments_lexer": "ipython2",
   "version": "2.7.6"
  }
 },
 "nbformat": 4,
 "nbformat_minor": 5
}
