{
 "cells": [
  {
   "cell_type": "markdown",
   "id": "34ecc89d94e4f0d",
   "metadata": {
    "collapsed": false
   },
   "source": [
    "# Zadanie 9"
   ]
  },
  {
   "cell_type": "code",
   "execution_count": 3,
   "id": "312d4a6d79347b10",
   "metadata": {
    "ExecuteTime": {
     "end_time": "2024-05-05T15:07:22.717842100Z",
     "start_time": "2024-05-05T15:07:22.706697200Z"
    },
    "collapsed": false
   },
   "outputs": [],
   "source": [
    "import numpy as np\n",
    "from math import ceil\n",
    "import itertools"
   ]
  },
  {
   "cell_type": "code",
   "execution_count": 4,
   "id": "955a794d4fa53ec",
   "metadata": {
    "ExecuteTime": {
     "end_time": "2024-05-05T15:07:23.258299Z",
     "start_time": "2024-05-05T15:07:23.254564900Z"
    },
    "collapsed": false
   },
   "outputs": [],
   "source": [
    "def majority(neighbours):\n",
    "    return int(sum(neighbours) > 1)\n",
    "\n",
    "\n",
    "def GKL(initial_config, j, k, steps):\n",
    "    diagram = [initial_config]\n",
    "    n = len(initial_config)\n",
    "    padded_config = np.pad(initial_config, (k, k), 'wrap')\n",
    "\n",
    "    for _ in range(steps):\n",
    "        neighbourhoods = []\n",
    "        for idx in range(k, n + k):\n",
    "            if padded_config[idx] == 0:\n",
    "                neighbourhoods.append([padded_config[idx], padded_config[idx - j], padded_config[idx - k]])\n",
    "            else:\n",
    "                neighbourhoods.append([padded_config[idx], padded_config[idx + j], padded_config[idx + k]])\n",
    "\n",
    "        result = [majority(neighbourhood) for neighbourhood in neighbourhoods]\n",
    "        diagram.append(result)\n",
    "        padded_config = np.pad(result, (k, k), 'wrap')\n",
    "\n",
    "    return diagram\n",
    "\n",
    "\n",
    "def DCP(diagram):\n",
    "    initial_density = np.mean(diagram[0])  # Calculate initial density\n",
    "    final_density = np.mean(diagram[-1])  # Calculate final density\n",
    "\n",
    "    if initial_density < 0.5:\n",
    "        return final_density == 0\n",
    "    return final_density == 1\n"
   ]
  },
  {
   "cell_type": "code",
   "execution_count": 5,
   "id": "8d35336099fb94d1",
   "metadata": {
    "ExecuteTime": {
     "end_time": "2024-05-05T15:07:24.667928100Z",
     "start_time": "2024-05-05T15:07:24.667928100Z"
    },
    "collapsed": false
   },
   "outputs": [],
   "source": [
    "def convert_configuration(configuration: bytes, N: int):\n",
    "    binary_str = ''.join(f'{byte:08b}' for byte in configuration)\n",
    "    return np.array([int(bit) for bit in binary_str[:N]])\n",
    "\n",
    "\n",
    "def configuration_reader(file_name: str, N: int, negate: bool):\n",
    "    bytes_per_configuration = ceil(N / 8)\n",
    "    configurations = []\n",
    "\n",
    "    with open(file_name, 'rb') as file:\n",
    "        while True:\n",
    "            bytes_read = file.read(bytes_per_configuration)\n",
    "            if not bytes_read:\n",
    "                break\n",
    "\n",
    "            cfg = convert_configuration(bytes_read, N)\n",
    "            configurations.append(cfg)\n",
    "\n",
    "            if negate:\n",
    "                configurations.append(1 - cfg)\n",
    "\n",
    "    return np.stack(configurations)"
   ]
  },
  {
   "cell_type": "code",
   "execution_count": 73,
   "id": "a394df6df94dcef6",
   "metadata": {
    "ExecuteTime": {
     "end_time": "2024-04-08T21:31:05.334774600Z",
     "start_time": "2024-04-08T21:31:05.319150600Z"
    },
    "collapsed": false
   },
   "outputs": [
    {
     "data": {
      "text/plain": [
       "[[0, 1, 1, 0, 0, 1, 0, 0],\n",
       " [0, 1, 1, 0, 0, 0, 0, 0],\n",
       " [0, 1, 0, 0, 0, 0, 0, 0],\n",
       " [0, 0, 0, 0, 0, 0, 0, 0]]"
      ]
     },
     "execution_count": 73,
     "metadata": {},
     "output_type": "execute_result"
    }
   ],
   "source": [
    "GKL([0, 1, 1, 0, 0, 1, 0, 0], 1, 3, 3)"
   ]
  },
  {
   "cell_type": "code",
   "execution_count": 75,
   "id": "76a97d20145f3b0e",
   "metadata": {
    "ExecuteTime": {
     "end_time": "2024-04-08T21:31:42.296106700Z",
     "start_time": "2024-04-08T21:31:42.264833300Z"
    },
    "collapsed": false
   },
   "outputs": [
    {
     "data": {
      "text/plain": [
       "False"
      ]
     },
     "execution_count": 75,
     "metadata": {},
     "output_type": "execute_result"
    }
   ],
   "source": [
    "DCP(GKL([0, 1, 1, 0, 0, 1, 0, 0], 1, 3, 2))"
   ]
  },
  {
   "cell_type": "code",
   "execution_count": 4,
   "id": "d01b76911c958fd3",
   "metadata": {
    "ExecuteTime": {
     "end_time": "2024-04-09T20:33:36.388097500Z",
     "start_time": "2024-04-09T20:33:35.108410300Z"
    },
    "collapsed": false
   },
   "outputs": [],
   "source": [
    "configurations = configuration_reader(\"ALL_N21.bin\", 21, True)"
   ]
  },
  {
   "cell_type": "code",
   "execution_count": 5,
   "id": "f889a3c241824b0a",
   "metadata": {
    "ExecuteTime": {
     "end_time": "2024-04-09T21:17:08.088603700Z",
     "start_time": "2024-04-09T20:33:55.423076400Z"
    },
    "collapsed": false
   },
   "outputs": [
    {
     "name": "stdout",
     "output_type": "stream",
     "text": [
      "Rule (4, 12): 90.78% of correct solutions\n",
      "Rule (3, 9): 17.67% of correct solutions\n",
      "Rule (2, 6): 90.78% of correct solutions\n",
      "Rule (5, 15): 90.78% of correct solutions\n",
      "Rule (1, 3): 90.78% of correct solutions\n",
      "Rule (1, 9): 67.6% of correct solutions\n",
      "Rule (1, 11): 12.85% of correct solutions\n",
      "Rule (2, 14): 36.01% of correct solutions\n",
      "Rule (2, 10): 75.22% of correct solutions\n",
      "Rule (1, 7): 36.01% of correct solutions\n",
      "Rule (1, 5): 75.22% of correct solutions\n"
     ]
    }
   ],
   "source": [
    "rules = [(4, 12), (3, 9), (2, 6), (5, 15), (1, 3), (1, 9), (1, 11), (2, 14), (2, 10), (1, 7), (1, 5)]\n",
    "\n",
    "for rule in rules:\n",
    "    results = []\n",
    "    j = rule[0]\n",
    "    k = rule[1]\n",
    "\n",
    "    for config in configurations:\n",
    "        results.append(DCP(GKL(config, j, k, 42)))\n",
    "\n",
    "    print(f'Rule {rule}: {round(100 * sum(results) / len(results), 2)}% of correct solutions')\n"
   ]
  },
  {
   "cell_type": "markdown",
   "id": "c2b6e7bec352e717",
   "metadata": {
    "collapsed": false
   },
   "source": [
    "# Zadanie 11"
   ]
  },
  {
   "cell_type": "code",
   "execution_count": 4,
   "id": "e9cccbb66929b04f",
   "metadata": {
    "ExecuteTime": {
     "end_time": "2024-05-05T13:58:01.837392300Z",
     "start_time": "2024-05-05T13:57:58.414761100Z"
    },
    "collapsed": false
   },
   "outputs": [],
   "source": [
    "configurations = configuration_reader(\"ALL_N23.bin\", 23, True)"
   ]
  },
  {
   "cell_type": "code",
   "execution_count": 6,
   "id": "defb9da7a3407c68",
   "metadata": {
    "ExecuteTime": {
     "end_time": "2024-05-05T15:07:30.384824700Z",
     "start_time": "2024-05-05T15:07:30.384824700Z"
    },
    "collapsed": false
   },
   "outputs": [],
   "source": [
    "def binary_array_to_int(array):\n",
    "    binary_string = ''.join(str(bit) for bit in array)\n",
    "    return int(binary_string, 2)\n",
    "\n",
    "\n",
    "def eca_get_lut(rule_num: int) -> np.ndarray:\n",
    "    return np.array([int(x) for x in bin(rule_num)[2:].zfill(32)], dtype=np.uint8)\n",
    "\n",
    "\n",
    "def eca_evolve(lut: np.ndarray, x: np.ndarray) -> np.ndarray:\n",
    "    return lut[31 - ((np.roll(x, 2) * 16) + (np.roll(x, 1) * 8) + (x * 4) + (np.roll(x, -1) * 2) + np.roll(x, -2))]\n",
    "\n",
    "\n",
    "def eca_evolve_spacetime(lut: np.ndarray, initial_conf: np.ndarray, steps: int) -> np.ndarray:\n",
    "    rows = [initial_conf]\n",
    "    for _ in range(1, steps):\n",
    "        rows.append(eca_evolve(lut, rows[-1]))\n",
    "    return np.stack(rows)\n"
   ]
  },
  {
   "cell_type": "code",
   "execution_count": 45,
   "id": "91d8d0edd43a81ba",
   "metadata": {
    "ExecuteTime": {
     "end_time": "2024-05-05T22:34:51.221211Z",
     "start_time": "2024-05-05T22:34:51.210354900Z"
    },
    "collapsed": false
   },
   "outputs": [],
   "source": [
    "import numpy as np\n",
    "from joblib import Parallel, delayed\n",
    "\n",
    "\n",
    "def evaluate_lut(lut, configurations, steps):\n",
    "    \"\"\"Evaluate CA rule LUT on all given configurations, ensure no invalid fitness.\"\"\"\n",
    "    correct = 0\n",
    "    for config in configurations:\n",
    "        result = eca_evolve_spacetime(lut, config, steps)\n",
    "        if DCP(result):\n",
    "            correct += 1\n",
    "    return correct / len(configurations)\n",
    "\n",
    "\n",
    "# def fitness_on_population(population, configurations, steps):\n",
    "#     \"\"\"Compute fitness for each LUT in the population.\"\"\"\n",
    "#     return np.array([evaluate_lut(lut, configurations, steps) for lut in population])\n",
    "\n",
    "\n",
    "def fitness_on_population(population, configurations, steps):\n",
    "    \"\"\"Compute fitness for each LUT in the population using joblib for parallel processing.\"\"\"\n",
    "    results = Parallel(n_jobs=-1)(delayed(evaluate_lut)(lut, configurations, steps) for lut in population)\n",
    "    return np.array(results)\n",
    "\n",
    "\n",
    "def choice(population, fitness_results):\n",
    "    \"\"\"Roulette wheel selection with safety for zero fitness sum.\"\"\"\n",
    "    total_fitness = np.sum(fitness_results)\n",
    "    if total_fitness == 0:\n",
    "        return np.random.choice(population)\n",
    "    probabilities = fitness_results / total_fitness\n",
    "    chosen_index = np.random.choice(len(population), p=probabilities)\n",
    "    return population[chosen_index]\n",
    "\n",
    "\n",
    "# 1\n",
    "def cross(ind1, ind2):\n",
    "    \"\"\"Uniform crossover for binary LUTs.\"\"\"\n",
    "    mask = np.random.randint(2, size=len(ind1))\n",
    "    child = np.where(mask, ind1, ind2)\n",
    "    return child\n",
    "\n",
    "\n",
    "# 2\n",
    "# def cross(ind1, ind2):\n",
    "#     \"\"\"Single-point crossover for binary LUTs.\"\"\"\n",
    "#     crossover_point = np.random.randint(1, len(ind1))  # Choose a random crossover point\n",
    "#     child = np.concatenate((ind1[:crossover_point], ind2[crossover_point:]))\n",
    "#     return child\n",
    "\n",
    "# 1\n",
    "# def mutate(individual, mutation_rate=0.1):\n",
    "#     \"\"\"Bit flip mutation for LUTs.\"\"\"\n",
    "#     mutation_mask = np.random.rand(len(individual)) < mutation_rate\n",
    "#     individual[mutation_mask] = 1 - individual[mutation_mask]\n",
    "#     return individual\n",
    "\n",
    "# 2\n",
    "def mutate(individual, mutation_rate=0.1):\n",
    "    \"\"\"Bit flip mutation for LUTs with position-based mutation rate.\"\"\"\n",
    "    mutated_individual = individual.copy()\n",
    "    for i in range(len(individual)):\n",
    "        if np.random.rand() < mutation_rate * (i / len(individual)):  # Adjust mutation rate based on position\n",
    "            mutated_individual[i] = 1 - mutated_individual[i]  # Flip the bit\n",
    "    return mutated_individual\n",
    "\n",
    "\n",
    "def return_config(length):\n",
    "    individual = np.zeros(gene_length, dtype=int)\n",
    "    individual[np.random.randint(length)] = 1\n",
    "    return individual\n",
    "\n",
    "\n",
    "def run_evolution(configurations, steps, population_size, gene_length, num_iterations):\n",
    "    #population = [np.random.randint(2, size=gene_length) for _ in range(population_size)]\n",
    "\n",
    "    population = [return_config(gene_length) for _ in range(population_size)]  # Config with one \"1\"\n",
    "\n",
    "    for i in range(num_iterations):\n",
    "        print(f'Epoch {i}')\n",
    "        fitness_results = fitness_on_population(population, configurations, steps)\n",
    "        print(fitness_results)\n",
    "        new_population = [mutate(\n",
    "            cross(\n",
    "                choice(population, fitness_results),\n",
    "                choice(population, fitness_results)\n",
    "            )\n",
    "        ) for _ in range(population_size)]\n",
    "        population = new_population\n",
    "\n",
    "    return population\n",
    "\n",
    "\n",
    "# Evolution with automatically selecting best rules \n",
    "# def run_evolution(configurations, steps, population_size, gene_length, num_iterations, elite_size):\n",
    "#     population = [np.random.randint(2, size=gene_length) for _ in range(population_size)]\n",
    "#     \n",
    "#     for _ in range(num_iterations):\n",
    "#         print(f'Epoch {_}')\n",
    "#         fitness_results = fitness_on_population(population, configurations, steps)\n",
    "#         \n",
    "#         sorted_indices = np.argsort(fitness_results)[::-1]\n",
    "#         sorted_population = [population[i] for i in sorted_indices]\n",
    "#         elite_population = sorted_population[:elite_size]\n",
    "#         \n",
    "#         new_population = elite_population\n",
    "#         \n",
    "#         while len(new_population) < population_size:\n",
    "#             parent1 = choice(sorted_population, fitness_results)\n",
    "#             parent2 = choice(sorted_population, fitness_results)\n",
    "#             child = mutate(cross(parent1, parent2))\n",
    "#             new_population.append(child)\n",
    "#         \n",
    "#         population = new_population\n",
    "#     \n",
    "#     return population\n",
    "\n"
   ]
  },
  {
   "cell_type": "markdown",
   "id": "92fe0289937949b9",
   "metadata": {
    "collapsed": false
   },
   "source": []
  },
  {
   "cell_type": "code",
   "execution_count": 46,
   "id": "342a8cf9e2cecb2a",
   "metadata": {
    "ExecuteTime": {
     "end_time": "2024-05-05T22:52:05.070990500Z",
     "start_time": "2024-05-05T22:34:54.783892700Z"
    },
    "collapsed": false
   },
   "outputs": [
    {
     "name": "stdout",
     "output_type": "stream",
     "text": [
      "Epoch 0\n",
      "[0.5 0.5 0.5 0.5 0.5 0.  0.  0.  0.5 0.5]\n",
      "Epoch 1\n",
      "[0.000e+00 5.000e-01 5.000e-01 0.000e+00 5.000e-01 0.000e+00 5.000e-01\n",
      " 5.000e-01 1.676e-01 2.000e-04]\n",
      "Epoch 2\n",
      "[0.5    0.0534 0.5    0.5    0.5    0.5    0.5    0.001  0.1404 0.1562]\n",
      "Epoch 3\n",
      "[2.0e-04 0.0e+00 5.0e-01 5.0e-01 4.1e-02 5.0e-01 0.0e+00 5.0e-01 5.0e-01\n",
      " 5.0e-01]\n",
      "Epoch 4\n",
      "[3.626e-01 5.000e-01 2.000e-04 5.000e-01 2.614e-01 8.060e-02 5.000e-01\n",
      " 5.000e-01 0.000e+00 5.000e-01]\n",
      "Epoch 5\n",
      "[0.3308 0.3626 0.011  0.5    0.0556 0.     0.5    0.5    0.5    0.5   ]\n",
      "Epoch 6\n",
      "[0.5    0.5    0.     0.5    0.5    0.056  0.3294 0.5    0.5    0.5   ]\n",
      "Epoch 7\n",
      "[5.00e-01 5.00e-01 6.94e-02 5.00e-01 5.00e-01 5.00e-01 5.56e-02 5.00e-01\n",
      " 5.00e-01 2.00e-04]\n",
      "Epoch 8\n",
      "[3.452e-01 7.560e-02 5.000e-01 3.630e-01 4.618e-01 2.000e-04 5.000e-01\n",
      " 2.000e-04 3.718e-01 2.000e-04]\n",
      "Epoch 9\n",
      "[4.040e-02 5.000e-01 5.000e-01 1.854e-01 2.000e-04 4.556e-01 3.472e-01\n",
      " 4.070e-01 4.380e-02 3.462e-01]\n",
      "Epoch 10\n",
      "[0.5    0.     0.5    0.     0.363  0.5    0.0344 0.5    0.5    0.2928]\n",
      "Epoch 11\n",
      "[2.000e-04 5.000e-01 5.000e-01 2.000e-04 2.400e-03 2.000e-04 5.600e-02\n",
      " 2.000e-04 3.180e-01 4.028e-01]\n",
      "Epoch 12\n",
      "[0.5    0.2392 0.3784 0.5    0.5    0.0064 0.3678 0.5    0.     0.5   ]\n",
      "Epoch 13\n",
      "[3.842e-01 1.438e-01 2.000e-04 2.000e-04 4.446e-01 2.000e-04 2.000e-04\n",
      " 2.000e-04 1.404e-01 0.000e+00]\n",
      "Epoch 14\n",
      "[0.4446 0.5    0.4446 0.1308 0.4492 0.     0.0008 0.3842 0.     0.    ]\n",
      "Epoch 15\n",
      "[5.000e-01 1.046e-01 5.000e-01 5.000e-01 0.000e+00 3.730e-01 5.000e-01\n",
      " 2.000e-04 5.000e-01 2.000e-04]\n",
      "Epoch 16\n",
      "[2.000e-04 2.000e-04 2.100e-02 1.372e-01 5.000e-01 2.000e-04 5.000e-01\n",
      " 5.000e-01 0.000e+00 5.000e-01]\n",
      "Epoch 17\n",
      "[5.000e-01 1.746e-01 3.832e-01 5.000e-01 2.000e-04 1.090e-01 5.000e-01\n",
      " 4.640e-02 1.696e-01 2.000e-04]\n",
      "Epoch 18\n",
      "[2.090e-01 2.000e-04 0.000e+00 2.000e-04 3.648e-01 5.000e-01 2.000e-04\n",
      " 2.000e-04 2.598e-01 2.000e-04]\n",
      "Epoch 19\n",
      "[0.1212 0.3648 0.335  0.492  0.3854 0.0854 0.5    0.131  0.0424 0.5   ]\n",
      "[array([0, 0, 0, 0, 0, 1, 0, 0, 0, 1, 0, 1, 0, 1, 0, 0, 0, 0, 0, 1, 0, 0,\n",
      "       0, 0, 1, 0, 1, 0, 0, 0, 0, 0]), array([0, 0, 0, 0, 0, 0, 0, 0, 0, 1, 0, 1, 1, 1, 0, 0, 1, 0, 0, 1, 0, 1,\n",
      "       0, 0, 0, 0, 0, 0, 1, 0, 0, 0]), array([0, 0, 0, 0, 0, 0, 0, 0, 1, 0, 0, 1, 1, 1, 0, 0, 1, 0, 1, 1, 0, 1,\n",
      "       0, 1, 0, 1, 0, 0, 0, 0, 0, 0]), array([0, 0, 0, 0, 0, 0, 0, 0, 1, 1, 0, 1, 1, 1, 0, 0, 0, 0, 0, 1, 0, 0,\n",
      "       0, 0, 0, 1, 1, 0, 0, 0, 0, 0]), array([0, 0, 0, 0, 0, 0, 0, 0, 0, 0, 0, 1, 0, 1, 0, 0, 0, 1, 0, 1, 0, 0,\n",
      "       0, 0, 1, 1, 0, 0, 0, 1, 0, 0]), array([0, 0, 0, 0, 0, 0, 0, 0, 0, 1, 0, 1, 1, 1, 0, 0, 1, 0, 0, 1, 0, 1,\n",
      "       1, 0, 0, 1, 0, 0, 1, 0, 0, 0]), array([0, 0, 0, 0, 0, 0, 1, 0, 0, 1, 0, 1, 0, 1, 0, 0, 0, 0, 0, 1, 0, 1,\n",
      "       0, 0, 0, 0, 0, 1, 0, 0, 0, 0]), array([0, 0, 0, 0, 0, 0, 0, 0, 0, 0, 0, 1, 0, 1, 0, 0, 0, 0, 0, 1, 1, 0,\n",
      "       0, 0, 0, 1, 0, 0, 0, 1, 0, 0]), array([0, 0, 0, 0, 0, 1, 1, 0, 1, 1, 0, 1, 0, 1, 0, 0, 0, 1, 0, 1, 0, 1,\n",
      "       0, 0, 0, 1, 1, 0, 0, 0, 0, 0]), array([0, 0, 0, 0, 0, 0, 0, 0, 0, 1, 0, 1, 0, 1, 0, 0, 0, 0, 0, 1, 0, 1,\n",
      "       0, 0, 0, 1, 1, 0, 1, 0, 0, 0])]\n"
     ]
    }
   ],
   "source": [
    "marcin = configuration_reader(\"ALL_N23.bin\", 23, True)[:5000]\n",
    "\n",
    "configurations = marcin\n",
    "steps = 46 \n",
    "population_size = 10\n",
    "gene_length = 32\n",
    "num_iterations = 20\n",
    "elite_size = 5\n",
    "\n",
    "final_population = run_evolution(configurations, steps, population_size, gene_length, num_iterations)\n",
    "print(final_population)"
   ]
  },
  {
   "cell_type": "code",
   "execution_count": 27,
   "id": "67461fd6821b7fd",
   "metadata": {
    "ExecuteTime": {
     "end_time": "2024-05-05T16:05:37.384445200Z",
     "start_time": "2024-05-05T16:02:09.687527400Z"
    },
    "collapsed": false
   },
   "outputs": [
    {
     "name": "stdout",
     "output_type": "stream",
     "text": [
      "Rule 3542390659: 0.02% of correct solutions\n",
      "Rule 3551305410: 50.02% of correct solutions\n",
      "Rule 3551385336: 50.02% of correct solutions\n",
      "Rule 3543963122: 50.02% of correct solutions\n",
      "Rule 3542390430: 0.04% of correct solutions\n",
      "Rule 3551368903: 50.0% of correct solutions\n",
      "Rule 3551385219: 50.0% of correct solutions\n",
      "Rule 3542914763: 0.26% of correct solutions\n",
      "Rule 3542930115: 32.4% of correct solutions\n",
      "Rule 3549288158: 50.02% of correct solutions\n"
     ]
    }
   ],
   "source": [
    "# cross 2\n",
    "configurations = configuration_reader(\"ALL_N23.bin\", 23, True)[:5000]\n",
    "final_rules = [binary_array_to_int(lut) for lut in final_population]\n",
    "\n",
    "for rule in final_rules:\n",
    "    results = []\n",
    "    for config in configurations:\n",
    "        results.append(DCP(eca_evolve_spacetime(eca_get_lut(rule), config, 46)))\n",
    "\n",
    "    print(f'Rule {rule}: {round(100 * sum(results) / len(results), 2)}% of correct solutions')"
   ]
  },
  {
   "cell_type": "code",
   "execution_count": 30,
   "id": "7999f0c210a059c1",
   "metadata": {
    "ExecuteTime": {
     "end_time": "2024-05-05T16:29:23.590163300Z",
     "start_time": "2024-05-05T16:25:44.229662900Z"
    },
    "collapsed": false
   },
   "outputs": [
    {
     "name": "stdout",
     "output_type": "stream",
     "text": [
      "Rule 4209162639: 50.0% of correct solutions\n",
      "Rule 4209294235: 50.0% of correct solutions\n",
      "Rule 4209433474: 50.02% of correct solutions\n",
      "Rule 4209154975: 50.0% of correct solutions\n",
      "Rule 4209417198: 50.02% of correct solutions\n",
      "Rule 4209423248: 15.18% of correct solutions\n",
      "Rule 4226201245: 38.98% of correct solutions\n",
      "Rule 4209171871: 50.0% of correct solutions\n",
      "Rule 4209957806: 50.02% of correct solutions\n",
      "Rule 3942030483: 48.7% of correct solutions\n"
     ]
    }
   ],
   "source": [
    "# cross 1\n",
    "configurations = configuration_reader(\"ALL_N23.bin\", 23, True)[:5000]\n",
    "final_rules = [binary_array_to_int(lut) for lut in final_population]\n",
    "\n",
    "for rule in final_rules:\n",
    "    results = []\n",
    "    for config in configurations:\n",
    "        results.append(DCP(eca_evolve_spacetime(eca_get_lut(rule), config, 46)))\n",
    "\n",
    "    print(f'Rule {rule}: {round(100 * sum(results) / len(results), 2)}% of correct solutions')"
   ]
  },
  {
   "cell_type": "code",
   "execution_count": 38,
   "id": "5afab87614b275b5",
   "metadata": {
    "ExecuteTime": {
     "end_time": "2024-05-05T17:10:24.628354500Z",
     "start_time": "2024-05-05T17:06:46.578519600Z"
    },
    "collapsed": false
   },
   "outputs": [
    {
     "name": "stdout",
     "output_type": "stream",
     "text": [
      "Rule 3548038796: 50.02% of correct solutions\n",
      "Rule 3548039064: 50.02% of correct solutions\n",
      "Rule 3548104649: 50.0% of correct solutions\n",
      "Rule 3548039113: 50.0% of correct solutions\n",
      "Rule 3548030863: 50.0% of correct solutions\n",
      "Rule 3547975564: 4.6% of correct solutions\n",
      "Rule 3555936140: 0.04% of correct solutions\n",
      "Rule 3547899280: 47.84% of correct solutions\n",
      "Rule 3514483613: 50.0% of correct solutions\n",
      "Rule 3548040844: 43.36% of correct solutions\n"
     ]
    }
   ],
   "source": [
    "# new with selecting best rules in each step\n",
    "configurations = configuration_reader(\"ALL_N23.bin\", 23, True)[:5000]\n",
    "final_rules = [binary_array_to_int(lut) for lut in final_population]\n",
    "\n",
    "for rule in final_rules:\n",
    "    results = []\n",
    "    for config in configurations:\n",
    "        results.append(DCP(eca_evolve_spacetime(eca_get_lut(rule), config, 46)))\n",
    "\n",
    "    print(f'Rule {rule}: {round(100 * sum(results) / len(results), 2)}% of correct solutions')"
   ]
  },
  {
   "cell_type": "code",
   "execution_count": 43,
   "id": "a52a345fff3f01bc",
   "metadata": {
    "ExecuteTime": {
     "end_time": "2024-05-05T20:05:56.114324700Z",
     "start_time": "2024-05-05T19:47:30.593832900Z"
    },
    "collapsed": false
   },
   "outputs": [
    {
     "name": "stdout",
     "output_type": "stream",
     "text": [
      "Rule 4276864278: 35.62% of correct solutions\n",
      "Rule 4294479021: 50.0% of correct solutions\n",
      "Rule 4293452430: 50.02% of correct solutions\n",
      "Rule 4229911781: 0.02% of correct solutions\n",
      "Rule 4277795860: 18.92% of correct solutions\n",
      "Rule 4294367773: 23.98% of correct solutions\n",
      "Rule 4273594438: 46.34% of correct solutions\n",
      "Rule 4160672021: 0.02% of correct solutions\n",
      "Rule 4289175722: 50.02% of correct solutions\n",
      "Rule 4210683311: 50.0% of correct solutions\n",
      "Rule 4288394443: 50.0% of correct solutions\n",
      "Rule 4290478331: 50.0% of correct solutions\n",
      "Rule 4025067132: 50.02% of correct solutions\n",
      "Rule 4021787082: 50.02% of correct solutions\n",
      "Rule 4292605403: 50.0% of correct solutions\n",
      "Rule 3954825002: 17.42% of correct solutions\n",
      "Rule 4004568983: 33.96% of correct solutions\n",
      "Rule 4275568082: 50.02% of correct solutions\n",
      "Rule 3885994971: 4.84% of correct solutions\n",
      "Rule 4288125635: 50.0% of correct solutions\n",
      "Rule 4227854090: 50.02% of correct solutions\n",
      "Rule 4291800190: 50.02% of correct solutions\n",
      "Rule 4282376244: 0.04% of correct solutions\n",
      "Rule 4021404750: 41.78% of correct solutions\n",
      "Rule 4026371731: 50.0% of correct solutions\n",
      "Rule 4278053075: 42.94% of correct solutions\n",
      "Rule 3487228648: 4.04% of correct solutions\n",
      "Rule 4273928397: 50.0% of correct solutions\n",
      "Rule 4137531551: 9.22% of correct solutions\n",
      "Rule 4290423006: 50.02% of correct solutions\n",
      "Rule 4289976254: 50.02% of correct solutions\n",
      "Rule 4288408413: 50.0% of correct solutions\n",
      "Rule 4272663973: 50.0% of correct solutions\n",
      "Rule 4236895434: 50.12% of correct solutions\n",
      "Rule 4290350285: 50.0% of correct solutions\n",
      "Rule 4128497699: 0.02% of correct solutions\n",
      "Rule 4271490554: 48.86% of correct solutions\n",
      "Rule 4294887891: 50.0% of correct solutions\n",
      "Rule 4289430974: 50.02% of correct solutions\n",
      "Rule 4019965917: 50.0% of correct solutions\n",
      "Rule 4271756499: 37.22% of correct solutions\n",
      "Rule 4275939779: 45.74% of correct solutions\n",
      "Rule 4276223116: 50.02% of correct solutions\n",
      "Rule 4239845581: 32.36% of correct solutions\n",
      "Rule 4292191398: 50.02% of correct solutions\n",
      "Rule 4210093806: 50.02% of correct solutions\n",
      "Rule 4289657900: 50.02% of correct solutions\n",
      "Rule 4287996107: 50.0% of correct solutions\n",
      "Rule 4294632974: 50.02% of correct solutions\n",
      "Rule 4292866559: 50.0% of correct solutions\n"
     ]
    }
   ],
   "source": [
    "# big population\n",
    "configurations = configuration_reader(\"ALL_N23.bin\", 23, True)[:5000]\n",
    "final_rules = [binary_array_to_int(lut) for lut in final_population]\n",
    "\n",
    "for rule in final_rules:\n",
    "    results = []\n",
    "    for config in configurations:\n",
    "        results.append(DCP(eca_evolve_spacetime(eca_get_lut(rule), config, 46)))\n",
    "\n",
    "    print(f'Rule {rule}: {round(100 * sum(results) / len(results), 2)}% of correct solutions')"
   ]
  },
  {
   "cell_type": "code",
   "execution_count": 47,
   "id": "502150f23b0989fb",
   "metadata": {
    "ExecuteTime": {
     "end_time": "2024-05-05T23:11:04.849334900Z",
     "start_time": "2024-05-05T23:08:00.410182500Z"
    },
    "collapsed": false
   },
   "outputs": [
    {
     "name": "stdout",
     "output_type": "stream",
     "text": [
      "Rule 72618144: 40.8% of correct solutions\n",
      "Rule 6067208: 17.96% of correct solutions\n",
      "Rule 10270016: 11.5% of correct solutions\n",
      "Rule 14422112: 32.02% of correct solutions\n",
      "Rule 1331396: 0.02% of correct solutions\n",
      "Rule 6067784: 50.0% of correct solutions\n",
      "Rule 39064592: 6.46% of correct solutions\n",
      "Rule 1316932: 2.42% of correct solutions\n",
      "Rule 114578528: 13.36% of correct solutions\n",
      "Rule 5510248: 48.74% of correct solutions\n"
     ]
    }
   ],
   "source": [
    "# configs with one \"1\"\n",
    "configurations = configuration_reader(\"ALL_N23.bin\", 23, True)[:5000]\n",
    "final_rules = [binary_array_to_int(lut) for lut in final_population]\n",
    "\n",
    "for rule in final_rules:\n",
    "    results = []\n",
    "    for config in configurations:\n",
    "        results.append(DCP(eca_evolve_spacetime(eca_get_lut(rule), config, 46)))\n",
    "\n",
    "    print(f'Rule {rule}: {round(100 * sum(results) / len(results), 2)}% of correct solutions')"
   ]
  },
  {
   "cell_type": "code",
   "execution_count": null,
   "id": "93ce04c2038afd59",
   "metadata": {
    "collapsed": false
   },
   "outputs": [],
   "source": [
    "w zbiorze konfiguracji na których testujemy bierzemy konfiguracje o gęstości<0.5\n",
    "fitnes na sprawdzać czy reguła zastosowana T razy na konfiguracji daje same 0\n",
    "czy reguła zastosowana T razy na konfiguracji odwrotnej daje same 1\n",
    "i tylko gdy oba są true to fitness += 1"
   ]
  }
 ],
 "metadata": {
  "kernelspec": {
   "display_name": "Python 3",
   "language": "python",
   "name": "python3"
  },
  "language_info": {
   "codemirror_mode": {
    "name": "ipython",
    "version": 2
   },
   "file_extension": ".py",
   "mimetype": "text/x-python",
   "name": "python",
   "nbconvert_exporter": "python",
   "pygments_lexer": "ipython2",
   "version": "2.7.6"
  }
 },
 "nbformat": 4,
 "nbformat_minor": 5
}
