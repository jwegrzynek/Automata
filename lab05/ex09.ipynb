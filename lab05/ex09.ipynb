{
 "cells": [
  {
   "cell_type": "markdown",
   "source": [
    "# Zadanie 9"
   ],
   "metadata": {
    "collapsed": false
   },
   "id": "34ecc89d94e4f0d"
  },
  {
   "cell_type": "code",
   "execution_count": 1,
   "outputs": [],
   "source": [
    "import numpy as np\n",
    "from math import ceil"
   ],
   "metadata": {
    "collapsed": false,
    "ExecuteTime": {
     "end_time": "2024-04-09T20:33:34.982943600Z",
     "start_time": "2024-04-09T20:33:34.777305900Z"
    }
   },
   "id": "312d4a6d79347b10"
  },
  {
   "cell_type": "code",
   "execution_count": 2,
   "outputs": [],
   "source": [
    "def majority(neighbours):\n",
    "    return int(sum(neighbours) > 1)\n",
    "\n",
    "\n",
    "def GKL(initial_config, j, k, steps):\n",
    "    diagram = [initial_config]\n",
    "    n = len(initial_config)\n",
    "    padded_config = np.pad(initial_config, (k, k), 'wrap')\n",
    "\n",
    "    for _ in range(steps):\n",
    "        neighbourhoods = []\n",
    "        for idx in range(k, n + k):\n",
    "            if padded_config[idx] == 0:\n",
    "                neighbourhoods.append([padded_config[idx], padded_config[idx - j], padded_config[idx - k]])\n",
    "            else:\n",
    "                neighbourhoods.append([padded_config[idx], padded_config[idx + j], padded_config[idx + k]])\n",
    "\n",
    "        result = [majority(neighbourhood) for neighbourhood in neighbourhoods]\n",
    "        diagram.append(result)\n",
    "        padded_config = np.pad(result, (k, k), 'wrap')\n",
    "\n",
    "    return diagram\n",
    "\n",
    "\n",
    "def DCP(diagram):\n",
    "    initial_density = np.mean(diagram[0])  # Calculate initial density\n",
    "    final_density = np.mean(diagram[-1])  # Calculate final density\n",
    "\n",
    "    if initial_density < 0.5:\n",
    "        return final_density == 0\n",
    "    return final_density == 1\n"
   ],
   "metadata": {
    "collapsed": false,
    "ExecuteTime": {
     "end_time": "2024-04-09T20:33:35.003263300Z",
     "start_time": "2024-04-09T20:33:34.992173900Z"
    }
   },
   "id": "955a794d4fa53ec"
  },
  {
   "cell_type": "code",
   "execution_count": 3,
   "outputs": [],
   "source": [
    "def convert_configuration(configuration: bytes, N: int):\n",
    "    binary_str = ''.join(f'{byte:08b}' for byte in configuration)\n",
    "    return np.array([int(bit) for bit in binary_str[:N]])\n",
    "\n",
    "\n",
    "def configuration_reader(file_name: str, N: int, negate: bool):\n",
    "    bytes_per_configuration = ceil(N / 8)\n",
    "    configurations = []\n",
    "\n",
    "    with open(file_name, 'rb') as file:\n",
    "        while True:\n",
    "            bytes_read = file.read(bytes_per_configuration)\n",
    "            if not bytes_read:\n",
    "                break\n",
    "\n",
    "            cfg = convert_configuration(bytes_read, N)\n",
    "            configurations.append(cfg)\n",
    "\n",
    "            if negate:\n",
    "                configurations.append(1 - cfg)\n",
    "\n",
    "    return np.stack(configurations)"
   ],
   "metadata": {
    "collapsed": false,
    "ExecuteTime": {
     "end_time": "2024-04-09T20:33:35.032327300Z",
     "start_time": "2024-04-09T20:33:35.003263300Z"
    }
   },
   "id": "8d35336099fb94d1"
  },
  {
   "cell_type": "code",
   "execution_count": 73,
   "outputs": [
    {
     "data": {
      "text/plain": "[[0, 1, 1, 0, 0, 1, 0, 0],\n [0, 1, 1, 0, 0, 0, 0, 0],\n [0, 1, 0, 0, 0, 0, 0, 0],\n [0, 0, 0, 0, 0, 0, 0, 0]]"
     },
     "execution_count": 73,
     "metadata": {},
     "output_type": "execute_result"
    }
   ],
   "source": [
    "GKL([0, 1, 1, 0, 0, 1, 0, 0], 1, 3, 3)"
   ],
   "metadata": {
    "collapsed": false,
    "ExecuteTime": {
     "end_time": "2024-04-08T21:31:05.334774600Z",
     "start_time": "2024-04-08T21:31:05.319150600Z"
    }
   },
   "id": "a394df6df94dcef6"
  },
  {
   "cell_type": "code",
   "execution_count": 75,
   "outputs": [
    {
     "data": {
      "text/plain": "False"
     },
     "execution_count": 75,
     "metadata": {},
     "output_type": "execute_result"
    }
   ],
   "source": [
    "DCP(GKL([0, 1, 1, 0, 0, 1, 0, 0], 1, 3, 2))"
   ],
   "metadata": {
    "collapsed": false,
    "ExecuteTime": {
     "end_time": "2024-04-08T21:31:42.296106700Z",
     "start_time": "2024-04-08T21:31:42.264833300Z"
    }
   },
   "id": "76a97d20145f3b0e"
  },
  {
   "cell_type": "code",
   "execution_count": 4,
   "outputs": [],
   "source": [
    "configurations = configuration_reader(\"ALL_N21.bin\", 21, True)"
   ],
   "metadata": {
    "collapsed": false,
    "ExecuteTime": {
     "end_time": "2024-04-09T20:33:36.388097500Z",
     "start_time": "2024-04-09T20:33:35.108410300Z"
    }
   },
   "id": "d01b76911c958fd3"
  },
  {
   "cell_type": "code",
   "execution_count": 5,
   "outputs": [
    {
     "name": "stdout",
     "output_type": "stream",
     "text": [
      "Rule (4, 12): 90.78% of correct solutions\n",
      "Rule (3, 9): 17.67% of correct solutions\n",
      "Rule (2, 6): 90.78% of correct solutions\n",
      "Rule (5, 15): 90.78% of correct solutions\n",
      "Rule (1, 3): 90.78% of correct solutions\n",
      "Rule (1, 9): 67.6% of correct solutions\n",
      "Rule (1, 11): 12.85% of correct solutions\n",
      "Rule (2, 14): 36.01% of correct solutions\n",
      "Rule (2, 10): 75.22% of correct solutions\n",
      "Rule (1, 7): 36.01% of correct solutions\n",
      "Rule (1, 5): 75.22% of correct solutions\n"
     ]
    }
   ],
   "source": [
    "rules = [(4, 12), (3, 9), (2, 6), (5, 15), (1, 3), (1, 9), (1, 11), (2, 14), (2, 10), (1, 7), (1, 5)]\n",
    "\n",
    "for rule in rules:\n",
    "    results = []\n",
    "    j = rule[0]\n",
    "    k = rule[1]\n",
    "    \n",
    "    for config in configurations:\n",
    "        results.append(DCP(GKL(config, j, k, 42)))\n",
    "    \n",
    "    print(f'Rule {rule}: {round(100 * sum(results) / len(results), 2)}% of correct solutions')\n",
    "    "
   ],
   "metadata": {
    "collapsed": false,
    "ExecuteTime": {
     "end_time": "2024-04-09T21:17:08.088603700Z",
     "start_time": "2024-04-09T20:33:55.423076400Z"
    }
   },
   "id": "f889a3c241824b0a"
  },
  {
   "cell_type": "code",
   "execution_count": null,
   "outputs": [],
   "source": [],
   "metadata": {
    "collapsed": false
   },
   "id": "c774378a60c8de3f"
  },
  {
   "cell_type": "code",
   "execution_count": null,
   "outputs": [],
   "source": [],
   "metadata": {
    "collapsed": false
   },
   "id": "e9cccbb66929b04f"
  }
 ],
 "metadata": {
  "kernelspec": {
   "display_name": "Python 3",
   "language": "python",
   "name": "python3"
  },
  "language_info": {
   "codemirror_mode": {
    "name": "ipython",
    "version": 2
   },
   "file_extension": ".py",
   "mimetype": "text/x-python",
   "name": "python",
   "nbconvert_exporter": "python",
   "pygments_lexer": "ipython2",
   "version": "2.7.6"
  }
 },
 "nbformat": 4,
 "nbformat_minor": 5
}
