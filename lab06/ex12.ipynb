{
 "cells": [
  {
   "cell_type": "markdown",
   "metadata": {},
   "source": [
    "# Zadanie 12"
   ]
  },
  {
   "cell_type": "code",
   "execution_count": 17,
   "metadata": {},
   "outputs": [],
   "source": [
    "import numpy as np\n",
    "\n",
    "def plut_from_mixture(probabilities, luts):\n",
    "    probabilities = np.array(probabilities)\n",
    "    luts = np.array(luts)\n",
    "    \n",
    "    probabilities = probabilities[:, np.newaxis]\n",
    "    mixed_array = np.sum(probabilities * luts, axis=0)\n",
    "    \n",
    "    return mixed_array\n",
    "\n",
    "\n",
    "def mixture_from_plut(plut):\n",
    "    plut = np.asarray(plut)\n",
    "    pi = np.array([1 - plut, plut])\n",
    "    print(pi)\n",
    "\n"
   ]
  },
  {
   "cell_type": "code",
   "execution_count": null,
   "metadata": {},
   "outputs": [],
   "source": [
    "plut_from_mixture([0.7, 0.3], [[1,0,1,0,1,0,1,0], [0,0,0,0,0,0,1,1]])\n",
    "\n",
    "mixture_from_plut([1, 0.9, 0.75, 0.4, 0.5, 1, 0, 0.2]) ->\n",
    "[0.5, 0.25, 0.15, 0.05, 0.05], [[1,1,1,0,0,1,0,0], [1,1,0,1,1,1,0,0], [1,1,1,1,1,1,0,1], \n",
    "[1,0,1,0,1,1,0,0], [1,0,1,0,1,1,0,1]]\n"
   ]
  },
  {
   "cell_type": "code",
   "execution_count": 18,
   "metadata": {},
   "outputs": [
    {
     "name": "stdout",
     "output_type": "stream",
     "text": [
      "[[0.   0.1  0.25 0.6  0.5  0.   1.   0.8 ]\n",
      " [1.   0.9  0.75 0.4  0.5  1.   0.   0.2 ]]\n"
     ]
    }
   ],
   "source": [
    "mixture_from_plut([1, 0.9, 0.75, 0.4, 0.5, 1, 0, 0.2])"
   ]
  },
  {
   "cell_type": "code",
   "execution_count": null,
   "metadata": {},
   "outputs": [],
   "source": []
  }
 ],
 "metadata": {
  "kernelspec": {
   "display_name": "venv",
   "language": "python",
   "name": "python3"
  },
  "language_info": {
   "codemirror_mode": {
    "name": "ipython",
    "version": 3
   },
   "file_extension": ".py",
   "mimetype": "text/x-python",
   "name": "python",
   "nbconvert_exporter": "python",
   "pygments_lexer": "ipython3",
   "version": "3.11.5"
  },
  "orig_nbformat": 4
 },
 "nbformat": 4,
 "nbformat_minor": 2
}
