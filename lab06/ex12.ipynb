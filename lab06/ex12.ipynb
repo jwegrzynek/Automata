{
 "cells": [
  {
   "cell_type": "markdown",
   "metadata": {},
   "source": [
    "# Zadanie 12"
   ]
  },
  {
   "cell_type": "code",
   "execution_count": 46,
   "metadata": {
    "ExecuteTime": {
     "end_time": "2024-04-16T19:22:40.409487700Z",
     "start_time": "2024-04-16T19:22:40.394920800Z"
    }
   },
   "outputs": [],
   "source": [
    "import numpy as np\n",
    "\n",
    "\n",
    "def plut_from_mixture(probabilities, luts):\n",
    "    probabilities = np.array(probabilities)\n",
    "    luts = np.array(luts)\n",
    "\n",
    "    probabilities = probabilities[:, np.newaxis]\n",
    "    mixed_array = np.sum(probabilities * luts, axis=0)\n",
    "\n",
    "    return mixed_array\n",
    "\n",
    "\n",
    "def mixture_from_plut(plut):\n",
    "    plut = np.asarray(plut)\n",
    "    pi = np.array([1 - plut, plut])\n",
    "    probabilities = []\n",
    "    luts = []\n",
    "\n",
    "    while not np.isclose(np.sum(pi), 0):\n",
    "        max_in_columns = np.max(pi, axis=0)\n",
    "        alpha = min(max_in_columns)\n",
    "        l = np.zeros_like(pi)\n",
    "\n",
    "        for i, max_val in enumerate(max_in_columns):\n",
    "            idx = np.where(pi[:, i] == max_val)[0][0]\n",
    "            l[idx, i] = 1\n",
    "\n",
    "        pi = pi - alpha * l\n",
    "\n",
    "        probabilities.append(alpha)\n",
    "        luts.append(list(l[1]))\n",
    "\n",
    "    return np.round(probabilities, 5), np.round(luts)\n"
   ]
  },
  {
   "cell_type": "code",
   "execution_count": 51,
   "outputs": [
    {
     "data": {
      "text/plain": "array([0.7, 0. , 0.7, 0. , 0.7, 0. , 1. , 0.3])"
     },
     "execution_count": 51,
     "metadata": {},
     "output_type": "execute_result"
    }
   ],
   "source": [
    "plut_from_mixture([0.7, 0.3], [[1, 0, 1, 0, 1, 0, 1, 0], [0, 0, 0, 0, 0, 0, 1, 1]])"
   ],
   "metadata": {
    "collapsed": false,
    "ExecuteTime": {
     "end_time": "2024-04-16T19:24:30.259740900Z",
     "start_time": "2024-04-16T19:24:30.244472800Z"
    }
   }
  },
  {
   "cell_type": "code",
   "execution_count": 52,
   "metadata": {
    "ExecuteTime": {
     "end_time": "2024-04-16T19:24:32.225164400Z",
     "start_time": "2024-04-16T19:24:32.200949900Z"
    }
   },
   "outputs": [
    {
     "data": {
      "text/plain": "(array([0.5 , 0.25, 0.15, 0.05, 0.05]),\n array([[1., 1., 1., 0., 0., 1., 0., 0.],\n        [1., 1., 0., 1., 1., 1., 0., 0.],\n        [1., 1., 1., 1., 1., 1., 0., 1.],\n        [1., 0., 1., 0., 1., 1., 0., 0.],\n        [1., 0., 1., 0., 1., 1., 0., 1.]]))"
     },
     "execution_count": 52,
     "metadata": {},
     "output_type": "execute_result"
    }
   ],
   "source": [
    "mixture_from_plut([1, 0.9, 0.75, 0.4, 0.5, 1, 0, 0.2])"
   ]
  },
  {
   "cell_type": "code",
   "execution_count": null,
   "outputs": [],
   "source": [],
   "metadata": {
    "collapsed": false
   }
  }
 ],
 "metadata": {
  "kernelspec": {
   "display_name": "venv",
   "language": "python",
   "name": "python3"
  },
  "language_info": {
   "codemirror_mode": {
    "name": "ipython",
    "version": 3
   },
   "file_extension": ".py",
   "mimetype": "text/x-python",
   "name": "python",
   "nbconvert_exporter": "python",
   "pygments_lexer": "ipython3",
   "version": "3.11.5"
  },
  "orig_nbformat": 4
 },
 "nbformat": 4,
 "nbformat_minor": 2
}
