{
 "cells": [
  {
   "cell_type": "code",
   "execution_count": 11,
   "outputs": [],
   "source": [
    "import sympy as sp\n",
    "import numpy as np\n",
    "import math\n",
    "from itertools import product\n",
    "import matplotlib.pyplot as plt\n",
    "from matplotlib.ticker import MaxNLocator"
   ],
   "metadata": {
    "collapsed": false,
    "ExecuteTime": {
     "end_time": "2024-04-23T19:44:29.838982800Z",
     "start_time": "2024-04-23T19:44:29.792085300Z"
    }
   },
   "id": "e09a12c2e94fea0f"
  },
  {
   "cell_type": "markdown",
   "source": [
    "# Zadanie 13"
   ],
   "metadata": {
    "collapsed": false
   },
   "id": "c2ff6d70c101e7ff"
  },
  {
   "cell_type": "markdown",
   "source": [
    "#### Działa dla każdego sąsiedztwa 1, 2, 3, ..."
   ],
   "metadata": {
    "collapsed": false
   },
   "id": "6f424b150392e4f"
  },
  {
   "cell_type": "code",
   "execution_count": 3,
   "outputs": [],
   "source": [
    "def define_symbols(n):\n",
    "    return [sp.symbols(f'x{i}') for i in range(n)]\n",
    "\n",
    "\n",
    "def check_lut(lut):\n",
    "    power = math.log2(len(lut))\n",
    "    return all(0 <= num <= 1 for num in lut) and power.is_integer() and power % 2 == 1 and power > 2"
   ],
   "metadata": {
    "collapsed": false,
    "ExecuteTime": {
     "end_time": "2024-04-23T19:14:43.756381300Z",
     "start_time": "2024-04-23T19:14:43.740793400Z"
    }
   },
   "id": "bd66c71f05e37bba"
  },
  {
   "cell_type": "code",
   "execution_count": 4,
   "outputs": [],
   "source": [
    "def get_ca_polynomial(lut):\n",
    "    if check_lut(lut):\n",
    "        power = int(math.log2(len(lut)))\n",
    "        triple_bits = [list(tup) for tup in list(product([1, 0], repeat=power))]\n",
    "        symbols = define_symbols(power)\n",
    "\n",
    "        polynomial_terms = []\n",
    "        for i, bits in enumerate(triple_bits):\n",
    "            term = np.prod([(symbol if bit == 1 else 1 - symbol) for bit, symbol in zip(bits, symbols)]) * lut[i]\n",
    "            polynomial_terms.append(term)\n",
    "\n",
    "        polynomial_expression = sp.Add(*polynomial_terms)\n",
    "        return polynomial_expression\n",
    "\n",
    "    else:\n",
    "        raise Exception(\"Invalid LUT...\")\n",
    "\n"
   ],
   "metadata": {
    "collapsed": false,
    "ExecuteTime": {
     "end_time": "2024-04-23T19:14:55.990383200Z",
     "start_time": "2024-04-23T19:14:55.958856800Z"
    }
   },
   "id": "29458a8e0ce7d06d"
  },
  {
   "cell_type": "code",
   "execution_count": 5,
   "outputs": [
    {
     "name": "stdout",
     "output_type": "stream",
     "text": [
      "Polynomial N1: 0.1*x0*x1*x2 + x0*x1*(1 - x2) + x2*(1 - x0)*(1 - x1) + 0.1*(1 - x0)*(1 - x1)*(1 - x2)\n",
      "\n",
      "Polynomial N2: 0.1*x0*x1*x2*x3*x4 + x0*x1*x2*x3*(1 - x4) + x0*x1*x4*(1 - x2)*(1 - x3) + 0.1*x0*x1*(1 - x2)*(1 - x3)*(1 - x4) + 0.1*x0*x2*x3*x4*(1 - x1) + x0*x2*x3*(1 - x1)*(1 - x4) + x0*x4*(1 - x1)*(1 - x2)*(1 - x3) + 0.1*x0*(1 - x1)*(1 - x2)*(1 - x3)*(1 - x4) + 0.1*x1*x2*x3*x4*(1 - x0) + x1*x2*x3*(1 - x0)*(1 - x4) + x1*x4*(1 - x0)*(1 - x2)*(1 - x3) + 0.1*x1*(1 - x0)*(1 - x2)*(1 - x3)*(1 - x4) + 0.1*x2*x3*x4*(1 - x0)*(1 - x1) + x2*x3*(1 - x0)*(1 - x1)*(1 - x4) + x4*(1 - x0)*(1 - x1)*(1 - x2)*(1 - x3) + 0.1*(1 - x0)*(1 - x1)*(1 - x2)*(1 - x3)*(1 - x4)\n"
     ]
    }
   ],
   "source": [
    "lut1 = [0.1, 1, 0, 0, 0, 0, 1, 0.1]\n",
    "polynomial2 = get_ca_polynomial(lut1)\n",
    "print(f\"Polynomial N1: {polynomial2}\\n\")\n",
    "\n",
    "lut2 = [0.1, 1, 0, 0, 0, 0, 1, 0.1, 0.1, 1, 0, 0, 0, 0, 1, 0.1, 0.1, 1, 0, 0, 0, 0, 1, 0.1, 0.1, 1, 0, 0, 0, 0, 1, 0.1]\n",
    "polynomial2 = get_ca_polynomial(lut2)\n",
    "print(f\"Polynomial N2: {polynomial2}\")"
   ],
   "metadata": {
    "collapsed": false,
    "ExecuteTime": {
     "end_time": "2024-04-23T19:14:58.455484700Z",
     "start_time": "2024-04-23T19:14:58.258769700Z"
    }
   },
   "id": "13368360cba09ba5"
  },
  {
   "cell_type": "markdown",
   "source": [
    "# Zadanie 14"
   ],
   "metadata": {
    "collapsed": false
   },
   "id": "e17c2f71d6b2e0fb"
  },
  {
   "cell_type": "code",
   "execution_count": 21,
   "outputs": [],
   "source": [
    "def generate_neighborhoods(configuration, n):\n",
    "    views = []\n",
    "    for shift in range(-n, n + 1):\n",
    "        views.append(np.roll(configuration, shift))\n",
    "    stacked_views = np.stack(views, axis=0)\n",
    "    return stacked_views\n",
    "\n",
    "\n",
    "def wolfram_rule_to_lut(rule_num):\n",
    "    return np.array([int(x) for x in bin(rule_num)[2:].zfill(8)], dtype=np.uint8)\n",
    "\n",
    "\n",
    "def visualize(history):\n",
    "    history = np.array(history, dtype=float)\n",
    "    plt.imshow(history, cmap='binary')\n",
    "    plt.xlabel('Cell Index')\n",
    "    plt.ylabel('Time Step')\n",
    "    plt.gca().yaxis.set_major_locator(MaxNLocator(integer=True))\n",
    "    plt.show()\n"
   ],
   "metadata": {
    "collapsed": false,
    "ExecuteTime": {
     "end_time": "2024-04-23T19:51:11.845339700Z",
     "start_time": "2024-04-23T19:51:11.829712700Z"
    }
   },
   "id": "2ffa78725967a0b7"
  },
  {
   "cell_type": "markdown",
   "source": [
    "Moja wersja (mało optymalna) :)"
   ],
   "metadata": {
    "collapsed": false
   },
   "id": "8670c1edaba536eb"
  },
  {
   "cell_type": "code",
   "execution_count": 31,
   "outputs": [],
   "source": [
    "# def acca_space_time(clut, initial_conf, step):\n",
    "#     n = int((math.log2(len(clut)) - 1) / 2)\n",
    "#     polynomial = get_ca_polynomial(clut)\n",
    "#     diagram = [initial_conf]\n",
    "#     conf = initial_conf\n",
    "# \n",
    "#     for _ in range(step):\n",
    "#         neighborhoods = generate_neighborhoods(conf, n)\n",
    "#         num_columns = neighborhoods.shape[1]\n",
    "#         results = []\n",
    "# \n",
    "#         for i in range(num_columns):\n",
    "#             subs_dict = {f'x{j}': neighborhoods[j, i] for j in range(neighborhoods.shape[0])}\n",
    "#             evaluated = polynomial.subs(subs_dict).evalf()\n",
    "#             results.append(evaluated)\n",
    "# \n",
    "#         conf = results\n",
    "#         diagram.append(results)\n",
    "# \n",
    "#     visualize(diagram)\n"
   ],
   "metadata": {
    "collapsed": false,
    "ExecuteTime": {
     "end_time": "2024-04-23T20:04:59.260526Z",
     "start_time": "2024-04-23T20:04:59.229269100Z"
    }
   },
   "id": "8fb14c96a894d8b6"
  },
  {
   "cell_type": "markdown",
   "source": [
    "Usprawniona"
   ],
   "metadata": {
    "collapsed": false
   },
   "id": "27c4368637d07c30"
  },
  {
   "cell_type": "code",
   "execution_count": null,
   "outputs": [],
   "source": [
    "def acca_space_time(clut, initial_conf, step):\n",
    "    n = int((math.log2(len(clut)) - 1) / 2)\n",
    "    polynomial = get_ca_polynomial(clut)\n",
    "    diagram = [initial_conf]\n",
    "    conf = initial_conf\n",
    "\n",
    "    func = sp.lambdify(define_symbols(2 * n + 1), polynomial, 'numpy')\n",
    "\n",
    "    for _ in range(step):\n",
    "        neighborhoods = generate_neighborhoods(conf, n)\n",
    "        conf = func(*neighborhoods)\n",
    "        diagram.append(conf.copy())\n",
    "\n",
    "    visualize(diagram)"
   ],
   "metadata": {
    "collapsed": false
   },
   "id": "464d111b90bf43db"
  },
  {
   "cell_type": "code",
   "execution_count": 45,
   "outputs": [
    {
     "data": {
      "text/plain": "<Figure size 640x480 with 1 Axes>",
      "image/png": "[encoded data removed]"
     },
     "metadata": {},
     "output_type": "display_data"
    }
   ],
   "source": [
    "traffic = wolfram_rule_to_lut(184)\n",
    "majority = wolfram_rule_to_lut(232)\n",
    "alpha = 0.9\n",
    "traffic_majority_clut = alpha * traffic + (1 - alpha) * majority\n",
    "conf = np.random.randint(0, 2, 49)\n",
    "#conf = [1, 0, 0, 1, 1, 0, 0, 0, 1, 1, 0, 1, 0, 1, 0, 1, 0, 0, 1, 0, 1, 0, 1, 0, 1, 1, 1, 1, 0, 1, 0, 1, 0, 0, 0, 1, 0, 0, 0, 0, 0, 0, 0, 1, 1, 0, 1, 0, 0]\n",
    "\n",
    "acca_space_time(traffic_majority_clut, conf, 49)"
   ],
   "metadata": {
    "collapsed": false,
    "ExecuteTime": {
     "end_time": "2024-04-23T20:13:31.815463100Z",
     "start_time": "2024-04-23T20:13:31.611695700Z"
    }
   },
   "id": "552939a71ee41c95"
  },
  {
   "cell_type": "code",
   "execution_count": 33,
   "outputs": [],
   "source": [],
   "metadata": {
    "collapsed": false,
    "ExecuteTime": {
     "end_time": "2024-04-23T20:05:09.101725500Z",
     "start_time": "2024-04-23T20:05:09.086105Z"
    }
   },
   "id": "cb928813c8a106e1"
  },
  {
   "cell_type": "code",
   "execution_count": null,
   "outputs": [],
   "source": [],
   "metadata": {
    "collapsed": false
   },
   "id": "6e843083c2a29146"
  }
 ],
 "metadata": {
  "kernelspec": {
   "display_name": "Python 3",
   "language": "python",
   "name": "python3"
  },
  "language_info": {
   "codemirror_mode": {
    "name": "ipython",
    "version": 2
   },
   "file_extension": ".py",
   "mimetype": "text/x-python",
   "name": "python",
   "nbconvert_exporter": "python",
   "pygments_lexer": "ipython2",
   "version": "2.7.6"
  }
 },
 "nbformat": 4,
 "nbformat_minor": 5
}
