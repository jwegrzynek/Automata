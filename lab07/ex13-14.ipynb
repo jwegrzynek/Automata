{
 "cells": [
  {
   "cell_type": "code",
   "execution_count": 66,
   "outputs": [],
   "source": [
    "import sympy as sp\n",
    "import numpy as np\n",
    "import math\n",
    "from itertools import product"
   ],
   "metadata": {
    "collapsed": false,
    "ExecuteTime": {
     "end_time": "2024-04-22T23:16:14.764608200Z",
     "start_time": "2024-04-22T23:16:14.702104Z"
    }
   },
   "id": "e09a12c2e94fea0f"
  },
  {
   "cell_type": "markdown",
   "source": [
    "# Zadanie 13"
   ],
   "metadata": {
    "collapsed": false
   },
   "id": "c2ff6d70c101e7ff"
  },
  {
   "cell_type": "markdown",
   "source": [
    "#### Działa dla każdego sąsiedztwa 1, 2, 3, ..."
   ],
   "metadata": {
    "collapsed": false
   },
   "id": "6f424b150392e4f"
  },
  {
   "cell_type": "code",
   "execution_count": 61,
   "outputs": [],
   "source": [
    "def define_symbols(n):\n",
    "    return [sp.symbols('x{}'.format(i)) for i in range(n)]\n",
    "\n",
    "def check_lut(lut):\n",
    "    power = math.log2(len(lut))\n",
    "    return all(0 <= num <= 1 for num in lut) and power.is_integer() and power % 2 == 1 and power > 2"
   ],
   "metadata": {
    "collapsed": false,
    "ExecuteTime": {
     "end_time": "2024-04-22T23:12:07.244294Z",
     "start_time": "2024-04-22T23:12:07.212989600Z"
    }
   },
   "id": "bd66c71f05e37bba"
  },
  {
   "cell_type": "code",
   "execution_count": 70,
   "outputs": [],
   "source": [
    "def get_ca_polynomial(lut):\n",
    "    if check_lut(lut):\n",
    "        power = int(math.log2(len(lut)))\n",
    "        triple_bits = [list(tup) for tup in list(product([1, 0], repeat=power))]\n",
    "        symbols = define_symbols(power)\n",
    "        \n",
    "        polynomial_terms = []\n",
    "        for i, bits in enumerate(triple_bits):\n",
    "            term = np.prod([(symbol if bit == 1 else 1 - symbol) for bit, symbol in zip(bits, symbols)]) * lut[i]\n",
    "            polynomial_terms.append(term)\n",
    "        \n",
    "        polynomial_expression = sp.Add(*polynomial_terms)\n",
    "        return polynomial_expression\n",
    "        \n",
    "    else:\n",
    "        raise Exception(\"Invalid LUT...\")\n",
    "\n"
   ],
   "metadata": {
    "collapsed": false,
    "ExecuteTime": {
     "end_time": "2024-04-22T23:18:07.492357200Z",
     "start_time": "2024-04-22T23:18:07.413883500Z"
    }
   },
   "id": "29458a8e0ce7d06d"
  },
  {
   "cell_type": "code",
   "execution_count": 74,
   "outputs": [
    {
     "name": "stdout",
     "output_type": "stream",
     "text": [
      "Polynomial N1: 0.1*x0*x1*x2 + x0*x1*(1 - x2) + x2*(1 - x0)*(1 - x1) + 0.1*(1 - x0)*(1 - x1)*(1 - x2)\n",
      "\n",
      "Polynomial N2: 0.1*x0*x1*x2*x3*x4 + x0*x1*x2*x3*(1 - x4) + x0*x1*x4*(1 - x2)*(1 - x3) + 0.1*x0*x1*(1 - x2)*(1 - x3)*(1 - x4) + 0.1*x0*x2*x3*x4*(1 - x1) + x0*x2*x3*(1 - x1)*(1 - x4) + x0*x4*(1 - x1)*(1 - x2)*(1 - x3) + 0.1*x0*(1 - x1)*(1 - x2)*(1 - x3)*(1 - x4) + 0.1*x1*x2*x3*x4*(1 - x0) + x1*x2*x3*(1 - x0)*(1 - x4) + x1*x4*(1 - x0)*(1 - x2)*(1 - x3) + 0.1*x1*(1 - x0)*(1 - x2)*(1 - x3)*(1 - x4) + 0.1*x2*x3*x4*(1 - x0)*(1 - x1) + x2*x3*(1 - x0)*(1 - x1)*(1 - x4) + x4*(1 - x0)*(1 - x1)*(1 - x2)*(1 - x3) + 0.1*(1 - x0)*(1 - x1)*(1 - x2)*(1 - x3)*(1 - x4)\n"
     ]
    }
   ],
   "source": [
    "lut1 = [0.1, 1, 0, 0, 0, 0, 1, 0.1]\n",
    "polynomial2 = get_ca_polynomial(lut1)\n",
    "print(f\"Polynomial N1: {polynomial2}\\n\")\n",
    "\n",
    "lut2 = [0.1, 1, 0, 0, 0, 0, 1, 0.1, 0.1, 1, 0, 0, 0, 0, 1, 0.1, 0.1, 1, 0, 0, 0, 0, 1, 0.1, 0.1, 1, 0, 0, 0, 0, 1, 0.1]\n",
    "polynomial2 = get_ca_polynomial(lut2)\n",
    "print(f\"Polynomial N2: {polynomial2}\")"
   ],
   "metadata": {
    "collapsed": false,
    "ExecuteTime": {
     "end_time": "2024-04-22T23:20:00.812601400Z",
     "start_time": "2024-04-22T23:20:00.781350900Z"
    }
   },
   "id": "13368360cba09ba5"
  },
  {
   "cell_type": "markdown",
   "source": [
    "# Zadanie 14"
   ],
   "metadata": {
    "collapsed": false
   },
   "id": "e17c2f71d6b2e0fb"
  },
  {
   "cell_type": "code",
   "execution_count": 74,
   "outputs": [],
   "source": [],
   "metadata": {
    "collapsed": false,
    "ExecuteTime": {
     "end_time": "2024-04-22T23:20:31.566922800Z",
     "start_time": "2024-04-22T23:20:31.551335700Z"
    }
   },
   "id": "2ffa78725967a0b7"
  },
  {
   "cell_type": "code",
   "execution_count": 74,
   "outputs": [],
   "source": [],
   "metadata": {
    "collapsed": false,
    "ExecuteTime": {
     "end_time": "2024-04-22T23:20:45.752463Z",
     "start_time": "2024-04-22T23:20:45.736825Z"
    }
   },
   "id": "8fb14c96a894d8b6"
  },
  {
   "cell_type": "code",
   "execution_count": null,
   "outputs": [],
   "source": [],
   "metadata": {
    "collapsed": false
   },
   "id": "cb928813c8a106e1"
  }
 ],
 "metadata": {
  "kernelspec": {
   "display_name": "Python 3",
   "language": "python",
   "name": "python3"
  },
  "language_info": {
   "codemirror_mode": {
    "name": "ipython",
    "version": 2
   },
   "file_extension": ".py",
   "mimetype": "text/x-python",
   "name": "python",
   "nbconvert_exporter": "python",
   "pygments_lexer": "ipython2",
   "version": "2.7.6"
  }
 },
 "nbformat": 4,
 "nbformat_minor": 5
}
