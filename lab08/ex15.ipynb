{
 "cells": [
  {
   "cell_type": "markdown",
   "source": [
    "# Zadanie 15"
   ],
   "metadata": {
    "collapsed": false
   },
   "id": "a1d070fa960c59a8"
  },
  {
   "cell_type": "code",
   "execution_count": 56,
   "outputs": [],
   "source": [
    "import numpy as np\n",
    "from itertools import product\n",
    "import random\n",
    "from src.eca import ECA"
   ],
   "metadata": {
    "collapsed": false,
    "ExecuteTime": {
     "end_time": "2024-05-07T22:51:41.183828Z",
     "start_time": "2024-05-07T22:51:41.168168100Z"
    }
   },
   "id": "3316865a208ae3d"
  },
  {
   "cell_type": "code",
   "execution_count": 75,
   "outputs": [],
   "source": [
    "def insert_spatial_gaps(diagram):\n",
    "    for row in diagram:\n",
    "        index = random.randint(0, len(row) - 1)\n",
    "        row[index] = -1\n",
    "    return diagram\n",
    "\n",
    "\n",
    "def get_rule_from_diagram(diagram: (list, np.ndarray), r: int):\n",
    "    rule_dict = {tup: None for tup in list(product([1, 0], repeat=1+2*r))}\n",
    "\n",
    "    for current_row, next_row in zip(diagram, diagram[1:]):\n",
    "        extended_row = np.array([*current_row[-r:], *current_row, *current_row[:r]])\n",
    "        neighborhoods = np.lib.stride_tricks.sliding_window_view(extended_row, window_shape=1+2*r)\n",
    "\n",
    "        for neighborhood, output in zip(neighborhoods, next_row):\n",
    "            if -1 not in neighborhood and output != -1:\n",
    "                rule_dict[tuple(neighborhood)] = output\n",
    "\n",
    "        if None not in rule_dict.values():\n",
    "            break\n",
    "    \n",
    "    if None in rule_dict.values():\n",
    "        return 'Rule not found!'\n",
    "\n",
    "    rule_number = ''.join(str(rule_dict[tup]) for tup in product([1, 0], repeat=3))\n",
    "    return int(rule_number, 2)"
   ],
   "metadata": {
    "collapsed": false,
    "ExecuteTime": {
     "end_time": "2024-05-07T23:43:34.125836200Z",
     "start_time": "2024-05-07T23:43:34.110196800Z"
    }
   },
   "id": "bb6bb3f81d1a8185"
  },
  {
   "cell_type": "code",
   "execution_count": 80,
   "outputs": [],
   "source": [
    "automaton = ECA.init_random(10)\n",
    "automaton.evolve(111,10)\n",
    "diagram = automaton.history\n",
    "diagram = insert_spatial_gaps(diagram)"
   ],
   "metadata": {
    "collapsed": false,
    "ExecuteTime": {
     "end_time": "2024-05-07T23:44:30.163058Z",
     "start_time": "2024-05-07T23:44:30.147431400Z"
    }
   },
   "id": "4dbc2556ac7c9e11"
  },
  {
   "cell_type": "code",
   "execution_count": 81,
   "outputs": [
    {
     "name": "stdout",
     "output_type": "stream",
     "text": [
      "Reguła: 111\n"
     ]
    }
   ],
   "source": [
    "print(f'Reguła: {get_rule_from_diagram(diagram, 1)}')"
   ],
   "metadata": {
    "collapsed": false,
    "ExecuteTime": {
     "end_time": "2024-05-07T23:44:30.655950900Z",
     "start_time": "2024-05-07T23:44:30.624699400Z"
    }
   },
   "id": "c3459e5bc6a59f8f"
  },
  {
   "cell_type": "code",
   "execution_count": null,
   "outputs": [],
   "source": [],
   "metadata": {
    "collapsed": false
   },
   "id": "ed2792ac0d9278b1"
  }
 ],
 "metadata": {
  "kernelspec": {
   "display_name": "Python 3",
   "language": "python",
   "name": "python3"
  },
  "language_info": {
   "codemirror_mode": {
    "name": "ipython",
    "version": 2
   },
   "file_extension": ".py",
   "mimetype": "text/x-python",
   "name": "python",
   "nbconvert_exporter": "python",
   "pygments_lexer": "ipython2",
   "version": "2.7.6"
  }
 },
 "nbformat": 4,
 "nbformat_minor": 5
}
