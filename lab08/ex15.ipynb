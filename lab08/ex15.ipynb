{
 "cells": [
  {
   "cell_type": "markdown",
   "source": [
    "# Zadanie 15"
   ],
   "metadata": {
    "collapsed": false
   },
   "id": "a1d070fa960c59a8"
  },
  {
   "cell_type": "code",
   "execution_count": 1,
   "outputs": [],
   "source": [
    "import numpy as np\n",
    "from itertools import product\n",
    "import random\n",
    "from src.eca import ECA"
   ],
   "metadata": {
    "collapsed": false,
    "ExecuteTime": {
     "end_time": "2024-05-13T17:03:28.161980300Z",
     "start_time": "2024-05-13T17:03:26.160862600Z"
    }
   },
   "id": "3316865a208ae3d"
  },
  {
   "cell_type": "code",
   "execution_count": 88,
   "outputs": [],
   "source": [
    "def insert_spatial_gaps(diagram):\n",
    "    for row in diagram:\n",
    "        index = random.randint(0, len(row) - 1)\n",
    "        row[index] = -1\n",
    "    return np.array(diagram)\n",
    "\n",
    "\n",
    "def get_rule_from_diagram(diagram: (list, np.ndarray), r: int):\n",
    "    rule_dict = {tup: None for tup in list(product([1, 0], repeat=1 + 2 * r))}\n",
    "\n",
    "    for current_row, next_row in zip(diagram, diagram[1:]):\n",
    "        extended_row = np.array([*current_row[-r:], *current_row, *current_row[:r]])\n",
    "        neighborhoods = np.lib.stride_tricks.sliding_window_view(extended_row, window_shape=1 + 2 * r)\n",
    "\n",
    "        for neighborhood, output in zip(neighborhoods, next_row):\n",
    "            if -1 not in neighborhood and output != -1:\n",
    "                rule_dict[tuple(neighborhood)] = output\n",
    "\n",
    "        if None not in rule_dict.values():\n",
    "            break\n",
    "\n",
    "    if None in rule_dict.values():\n",
    "        return 'Rule not found!'\n",
    "\n",
    "    rule_number = ''.join(str(rule_dict[tup]) for tup in product([1, 0], repeat=3))\n",
    "    return int(rule_number, 2)\n",
    "\n",
    "\n",
    "def ca_identify(observation: np.ndarray):\n",
    "    neighborhoods = np.roll(observation, -1, axis=1) + observation * 2 + 4 * np.roll(observation, 1, axis=1)\n",
    "    return neighborhoods\n",
    "\n",
    "\n",
    "# better\n",
    "def identify_rule(spacetime_diagram: np.ndarray) -> int:\n",
    "    counter = np.zeros((9, 3), dtype=int)\n",
    "    diagram = spacetime_diagram.copy()\n",
    "\n",
    "    diagram[diagram == -1] = -100\n",
    "    identified = ca_identify(diagram)[:-1]\n",
    "    identified[identified < 0] = 8\n",
    "    diagram = diagram[1:]\n",
    "    diagram[diagram < 0] = 2\n",
    "\n",
    "    np.add.at(counter, (identified.flatten(), diagram.flatten()), 1)\n",
    "    counter = counter[::-1][1:]\n",
    "    counter = counter[:, :2]\n",
    "\n",
    "    bits = [np.argmax(sublist) for sublist in counter]\n",
    "\n",
    "    return int(''.join(str(bit) for bit in bits), 2)"
   ],
   "metadata": {
    "collapsed": false,
    "ExecuteTime": {
     "end_time": "2024-05-13T18:34:19.411150600Z",
     "start_time": "2024-05-13T18:34:19.404029700Z"
    }
   },
   "id": "bb6bb3f81d1a8185"
  },
  {
   "cell_type": "markdown",
   "source": [
    "# Identifying Rules From Spacetime Diagram"
   ],
   "metadata": {
    "collapsed": false
   },
   "id": "44add2f3b64c233e"
  },
  {
   "cell_type": "code",
   "execution_count": 89,
   "outputs": [],
   "source": [
    "automaton = ECA.init_random(10)\n",
    "automaton.evolve(111, 10)\n",
    "diagram = automaton.history\n",
    "diagram = insert_spatial_gaps(diagram)"
   ],
   "metadata": {
    "collapsed": false,
    "ExecuteTime": {
     "end_time": "2024-05-13T18:34:20.396370500Z",
     "start_time": "2024-05-13T18:34:20.391848500Z"
    }
   },
   "id": "4dbc2556ac7c9e11"
  },
  {
   "cell_type": "code",
   "execution_count": 90,
   "outputs": [
    {
     "name": "stdout",
     "output_type": "stream",
     "text": [
      "Reguła: 111\n"
     ]
    }
   ],
   "source": [
    "print(f'Reguła: {get_rule_from_diagram(diagram, 1)}')"
   ],
   "metadata": {
    "collapsed": false,
    "ExecuteTime": {
     "end_time": "2024-05-13T18:34:20.701860100Z",
     "start_time": "2024-05-13T18:34:20.692150600Z"
    }
   },
   "id": "c3459e5bc6a59f8f"
  },
  {
   "cell_type": "code",
   "execution_count": 91,
   "outputs": [
    {
     "name": "stdout",
     "output_type": "stream",
     "text": [
      "Reguła: 111\n"
     ]
    }
   ],
   "source": [
    "print(f'Reguła: {identify_rule(diagram)}')"
   ],
   "metadata": {
    "collapsed": false,
    "ExecuteTime": {
     "end_time": "2024-05-13T18:34:21.309466Z",
     "start_time": "2024-05-13T18:34:21.301835300Z"
    }
   },
   "id": "ed2792ac0d9278b1"
  },
  {
   "cell_type": "code",
   "execution_count": null,
   "outputs": [],
   "source": [],
   "metadata": {
    "collapsed": false
   },
   "id": "971583f1fd809a58"
  }
 ],
 "metadata": {
  "kernelspec": {
   "display_name": "Python 3",
   "language": "python",
   "name": "python3"
  },
  "language_info": {
   "codemirror_mode": {
    "name": "ipython",
    "version": 2
   },
   "file_extension": ".py",
   "mimetype": "text/x-python",
   "name": "python",
   "nbconvert_exporter": "python",
   "pygments_lexer": "ipython2",
   "version": "2.7.6"
  }
 },
 "nbformat": 4,
 "nbformat_minor": 5
}
