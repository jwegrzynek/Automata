{
 "cells": [
  {
   "cell_type": "markdown",
   "source": [
    "# Zadanie 16"
   ],
   "metadata": {
    "collapsed": false
   },
   "id": "255a34c38938fd28"
  },
  {
   "cell_type": "code",
   "execution_count": 1,
   "outputs": [],
   "source": [
    "import numpy as np"
   ],
   "metadata": {
    "collapsed": false,
    "ExecuteTime": {
     "end_time": "2024-05-11T16:31:40.438431800Z",
     "start_time": "2024-05-11T16:31:40.294826300Z"
    }
   },
   "id": "39c1bd1d81f375e4"
  },
  {
   "cell_type": "code",
   "execution_count": 133,
   "outputs": [],
   "source": [
    "def mean_absolute_error(ground_truth, identified):\n",
    "    assert len(ground_truth) == len(identified), \"Arrays must have the same length\"\n",
    "    mae = np.mean(np.abs(ground_truth - identified))\n",
    "\n",
    "    return mae\n",
    "\n",
    "\n",
    "def root_mean_squared_error(ground_truth, identified):\n",
    "    assert len(ground_truth) == len(identified), \"Arrays must have the same length\"\n",
    "    rmse = np.sqrt(np.mean((ground_truth - identified) ** 2))\n",
    "\n",
    "    return rmse\n",
    "\n",
    "\n",
    "def max_absolute_error(ground_truth, identified):\n",
    "    assert len(ground_truth) == len(identified), \"Arrays must have the same length\"\n",
    "    max_error = np.max(np.abs(ground_truth - identified))\n",
    "\n",
    "    return max_error\n",
    "\n",
    "\n",
    "def sca_evolve(plut: np.ndarray, x: np.ndarray) -> np.ndarray:\n",
    "    probs = plut[7 - (np.roll(x, 1) * 4 + x * 2 + np.roll(x, -1))]\n",
    "    rnd = np.random.random(size=probs.shape)\n",
    "    return (rnd < probs).astype(np.int8)\n",
    "\n",
    "\n",
    "def sca_evolve_spacetime(plut: np.ndarray, initial_conf: np.ndarray, steps: int) -> np.ndarray:\n",
    "    rows = [initial_conf]\n",
    "    for _ in range(1, steps):\n",
    "        rows.append(sca_evolve(plut, rows[-1]))\n",
    "    return np.stack(rows)\n",
    "\n",
    "\n",
    "def generate_config(config_length: int) -> np.ndarray:\n",
    "    return np.random.randint(2, size=config_length)\n",
    "\n",
    "\n",
    "def generate_plut(length: int, threshold: (int, float) = 0.4, lower: bool = False) -> np.ndarray:\n",
    "    if lower:\n",
    "        return np.round(threshold * np.random.random(length), 2)\n",
    "    return np.round(threshold + (1 - threshold) * np.random.random(length), 2)\n",
    "\n",
    "\n",
    "def ca_identify(observation: np.ndarray):\n",
    "    neighborhoods = np.roll(observation, -1, axis=1) + observation * 2 + 4 * np.roll(observation, 1, axis=1)\n",
    "    return neighborhoods\n"
   ],
   "metadata": {
    "collapsed": false,
    "ExecuteTime": {
     "end_time": "2024-05-11T18:36:33.882831500Z",
     "start_time": "2024-05-11T18:36:33.874757300Z"
    }
   },
   "id": "7dc3e6941ab09e2b"
  },
  {
   "cell_type": "markdown",
   "source": [
    "# Gwóźdź programu"
   ],
   "metadata": {
    "collapsed": false
   },
   "id": "b511e6df4696f451"
  },
  {
   "cell_type": "code",
   "execution_count": null,
   "outputs": [],
   "source": [
    "def identify_plut(spacetime_diagram: np.ndarray) -> np.ndarray:\n",
    "    counter = np.zeros((8, 2), dtype=int)\n",
    "\n",
    "    identified = ca_identify(spacetime_diagram)[:-1]\n",
    "    diagram = spacetime_diagram[1:]\n",
    "\n",
    "    np.add.at(counter, (identified.flatten(), diagram.flatten()), 1)\n",
    "    identified_plut = counter[:, 1] / np.sum(counter, axis=1)\n",
    "\n",
    "    return identified_plut[::-1]"
   ],
   "metadata": {
    "collapsed": false
   },
   "id": "d847feeb7d52cf7a"
  },
  {
   "cell_type": "code",
   "execution_count": 136,
   "outputs": [
    {
     "name": "stdout",
     "output_type": "stream",
     "text": [
      "Original pLUT   : [0.14 0.63 0.5  0.66 0.64 0.18 0.91 0.65]\n",
      "Identified pLUT : [0.13 0.63 0.48 0.68 0.63 0.18 0.92 0.66]\n"
     ]
    }
   ],
   "source": [
    "plut = generate_plut(8, 0, lower=False)\n",
    "config = generate_config(8)\n",
    "\n",
    "diagram = sca_evolve_spacetime(plut, config, 1000)\n",
    "\n",
    "identified_plut = identify_plut(diagram)\n",
    "\n",
    "print(f'Original pLUT   : {plut}')\n",
    "print(f'Identified pLUT : {np.round(identified_plut, 2)}')"
   ],
   "metadata": {
    "collapsed": false,
    "ExecuteTime": {
     "end_time": "2024-05-11T18:38:29.023639200Z",
     "start_time": "2024-05-11T18:38:29.013826400Z"
    }
   },
   "id": "f0f745cf24affb4f"
  },
  {
   "cell_type": "code",
   "execution_count": 141,
   "outputs": [
    {
     "name": "stdout",
     "output_type": "stream",
     "text": [
      "Mean Absolute Error: 0.010288193572050026\n",
      "Root Mean Squared Error: 0.01155112009976636\n",
      "Maximum Absolute Error: 0.017241379310344807\n"
     ]
    }
   ],
   "source": [
    "# Calculate Mean Absolute Error\n",
    "mae = mean_absolute_error(plut, identified_plut)\n",
    "print(\"Mean Absolute Error:\", mae)\n",
    "\n",
    "# Calculate Root Mean Squared Error\n",
    "rmse = root_mean_squared_error(plut, identified_plut)\n",
    "print(\"Root Mean Squared Error:\", rmse)\n",
    "\n",
    "# Calculate Maximum Absolute Error\n",
    "max_error = max_absolute_error(plut, identified_plut)\n",
    "print(\"Maximum Absolute Error:\", max_error)"
   ],
   "metadata": {
    "collapsed": false,
    "ExecuteTime": {
     "end_time": "2024-05-11T18:57:14.254464800Z",
     "start_time": "2024-05-11T18:57:14.230479400Z"
    }
   },
   "id": "4046656bb0f2e2af"
  },
  {
   "cell_type": "markdown",
   "source": [
    "### Możemy ustawiać jakie jest minimalne prawdopodobieństwo w plucie np. z przedziału [0.1, 1], [0.7, 1]. Będę sprawdzał czy ma to jakiś wpływ na błędy oszacowania pluta. Wylosuję 200 losowych konfiguracji o długości 50 i 20 plutów z dla każdego przedziału prawdopodobieństwa. Wyliczę różne średnie błędy."
   ],
   "metadata": {
    "collapsed": false
   },
   "id": "a732aa637fe67657"
  },
  {
   "cell_type": "code",
   "execution_count": 160,
   "outputs": [],
   "source": [
    "configs = [generate_config(50) for _ in range(200)]\n",
    "thresholds = [0, 0.1, 0.2, 0.3, 0.4, 0.5, 0.6, 0.7, 0.8, 0.9]\n",
    "pluts = [generate_plut(8, threshold, lower=False) for threshold in thresholds for _ in range(20)]"
   ],
   "metadata": {
    "collapsed": false,
    "ExecuteTime": {
     "end_time": "2024-05-11T20:06:30.850761300Z",
     "start_time": "2024-05-11T20:06:30.836762Z"
    }
   },
   "id": "32fbe99bd9279f2"
  },
  {
   "cell_type": "code",
   "execution_count": 161,
   "outputs": [
    {
     "name": "stderr",
     "output_type": "stream",
     "text": [
      "C:\\Users\\kubal\\AppData\\Local\\Temp\\ipykernel_13384\\2049770395.py:36: RuntimeWarning: invalid value encountered in divide\n",
      "  identified_plut = counter[:, 1] / np.sum(counter, axis=1)\n"
     ]
    }
   ],
   "source": [
    "mean_mea = []\n",
    "mean_rmse = []\n",
    "mean_maxae = []\n",
    "\n",
    "for i, plut in enumerate(pluts):\n",
    "    for config in configs:\n",
    "        meas = []\n",
    "        rmses = []\n",
    "        maxaes = []\n",
    "\n",
    "        identified_plut = identify_plut(sca_evolve_spacetime(plut, config, 100))\n",
    "        meas.append(mean_absolute_error(plut, identified_plut))\n",
    "        rmses.append(root_mean_squared_error(plut, identified_plut))\n",
    "        maxaes.append(max_absolute_error(plut, identified_plut))\n",
    "\n",
    "    mean_mea.append(np.mean(meas))\n",
    "    mean_rmse.append(np.mean(rmses))\n",
    "    mean_maxae.append(np.mean(maxaes))"
   ],
   "metadata": {
    "collapsed": false,
    "ExecuteTime": {
     "end_time": "2024-05-11T20:10:20.434297200Z",
     "start_time": "2024-05-11T20:06:31.171776200Z"
    }
   },
   "id": "523b882b05095981"
  },
  {
   "cell_type": "code",
   "execution_count": 162,
   "outputs": [
    {
     "name": "stdout",
     "output_type": "stream",
     "text": [
      "MEA:\n",
      "[0.0157 0.016  0.0144 0.0155 0.0192 0.02   0.0221 0.0242 0.0288 0.0251]\n",
      "RMSE:\n",
      "[0.0208 0.0201 0.0188 0.0206 0.0249 0.0277 0.032  0.0353 0.0419 0.0375]\n",
      "MaxEA:\n",
      "[0.0435 0.0372 0.0381 0.042  0.0505 0.0614 0.0718 0.0779 0.0926 0.0868]\n"
     ]
    }
   ],
   "source": [
    "print('MEA:')\n",
    "grouped_array = np.array(mean_mea).reshape(-1, 20)\n",
    "mean_values = np.mean(grouped_array, axis=1)\n",
    "print(np.round(mean_values, 4))\n",
    "\n",
    "print('RMSE:')\n",
    "grouped_array = np.array(mean_rmse).reshape(-1, 20)\n",
    "mean_values = np.mean(grouped_array, axis=1)\n",
    "print(np.round(mean_values, 4))\n",
    "\n",
    "print('MaxEA:')\n",
    "grouped_array = np.array(mean_maxae).reshape(-1, 20)\n",
    "mean_values = np.mean(grouped_array, axis=1)\n",
    "print(np.round(mean_values, 4))\n"
   ],
   "metadata": {
    "collapsed": false,
    "ExecuteTime": {
     "end_time": "2024-05-11T20:10:20.445038200Z",
     "start_time": "2024-05-11T20:10:20.438296700Z"
    }
   },
   "id": "783df4cdbb1541e4"
  },
  {
   "cell_type": "markdown",
   "source": [
    "## Widzimy że zawężając przedział prawdopodobieństwa otrzymujemy większe błędy. Zapewne z powodu tego, że nasz spacetime diagram dąży do samych jedynek i trudnej jest zliczać zera, a przez to trudniej oszacować prawdopodobieństwa.  "
   ],
   "metadata": {
    "collapsed": false
   },
   "id": "93f4a76da26b9472"
  },
  {
   "cell_type": "code",
   "execution_count": null,
   "outputs": [],
   "source": [],
   "metadata": {
    "collapsed": false
   },
   "id": "37edfbc56f2e0cec"
  }
 ],
 "metadata": {
  "kernelspec": {
   "display_name": "Python 3",
   "language": "python",
   "name": "python3"
  },
  "language_info": {
   "codemirror_mode": {
    "name": "ipython",
    "version": 2
   },
   "file_extension": ".py",
   "mimetype": "text/x-python",
   "name": "python",
   "nbconvert_exporter": "python",
   "pygments_lexer": "ipython2",
   "version": "2.7.6"
  }
 },
 "nbformat": 4,
 "nbformat_minor": 5
}
